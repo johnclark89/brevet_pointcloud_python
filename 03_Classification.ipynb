{
 "cells": [
  {
   "cell_type": "markdown",
   "id": "840d8bc4",
   "metadata": {},
   "source": [
    "# Classification des points (points isolés et points sol)\n",
    "\n",
    "Quand nous travaillons sur un nuage de points, il est intéressant de pouvoir attribuer une classe à un point en fonction de sa nature. Ainsi, c'est ce point représente le sol, il se verra attribuer la classe 2 Ground. Ensuite en ne gardant que les points de la classe 2 ground, nous pourrions créer un MNT.\n",
    "\n",
    "PDAL a plusieurs filters permmettant de classifier les points. https://pdal.io/en/latest/stages/filters.html\n",
    "\n",
    "\n",
    "<img align=\"left\" src=\"data/img/pdal_ground.png\">"
   ]
  },
  {
   "cell_type": "code",
   "execution_count": null,
   "id": "5227ec19",
   "metadata": {},
   "outputs": [],
   "source": [
    "%%time\n",
    "import pathlib, json, pdal\n",
    "\n",
    "#chemin du fichier source\n",
    "datasource = pathlib.Path.cwd() /'data'/'input'\n",
    "output = pathlib.Path.cwd() /'data'/'output'\n",
    "file = '2560_1145.las'\n",
    "\n",
    "#pipeline pdal\n",
    "classification = {\n",
    " \"pipeline\":[\n",
    "     \n",
    "    #lecture du fichier source\n",
    "     {\n",
    "        \"type\" : \"readers.las\",\n",
    "        \"filename\" : str(datasource/file)\n",
    "    },\n",
    "     \n",
    "    #déclassification du nuage car il était déjà classifié\n",
    "    {\n",
    "        \"type\":\"filters.assign\",\n",
    "        \"assignment\":\"Classification[:]=1\"\n",
    "    },\n",
    "     \n",
    "    #identifie les low points comme bruit\n",
    "    {\n",
    "        \"type\":\"filters.elm\"\n",
    "    },\n",
    "     \n",
    "    #attribue la classe 7 aux points identifiés précédemment comme bruit\n",
    "    {\n",
    "        \"type\":\"filters.outlier\"\n",
    "    }, \n",
    "     \n",
    "    #classification du ground en utilisant Pinguel2013\n",
    "    {\n",
    "        \"type\":\"filters.smrf\",\n",
    "        \"ignore\":\"Classification[7:7]\",\n",
    "        \"slope\":0.2,\n",
    "        \"window\":16,\n",
    "        \"threshold\":0.45,\n",
    "        \"scalar\":1.2\n",
    "    },     \n",
    "     \n",
    "    #enregistrement du nuage\n",
    "    {   \"type\":\"writers.las\",\n",
    "        \"filename\": str(output)+\"\\\\\"+\"cloud_classified.las\"\n",
    "    }\n",
    "]   \n",
    "}\n",
    "\n",
    "pipeline = pdal.Pipeline(json.dumps(classification))\n",
    "pipeline.execute()"
   ]
  },
  {
   "cell_type": "markdown",
   "id": "d5321a13",
   "metadata": {},
   "source": [
    "La cellule peut prendre **plusieurs minutes** à s'éxécuter en raison de la complexité des algorithmes utilisés."
   ]
  }
 ],
 "metadata": {
  "kernelspec": {
   "display_name": "Python 3 (ipykernel)",
   "language": "python",
   "name": "python3"
  },
  "language_info": {
   "codemirror_mode": {
    "name": "ipython",
    "version": 3
   },
   "file_extension": ".py",
   "mimetype": "text/x-python",
   "name": "python",
   "nbconvert_exporter": "python",
   "pygments_lexer": "ipython3",
   "version": "3.9.12"
  }
 },
 "nbformat": 4,
 "nbformat_minor": 5
}
