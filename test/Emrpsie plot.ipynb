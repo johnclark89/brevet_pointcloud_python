{
 "cells": [
  {
   "cell_type": "code",
   "execution_count": 1,
   "id": "3653ca51",
   "metadata": {},
   "outputs": [],
   "source": [
    "import pyproj\n",
    "import glob\n",
    "import io\n",
    "import ipyleaflet\n",
    "import IPython.display\n",
    "import ipyvolume.pylab as p3\n",
    "import json\n",
    "import matplotlib.cm\n",
    "import matplotlib.pyplot as plt\n",
    "import numpy as np\n",
    "import os\n",
    "import pandas as pd\n",
    "import pdal\n",
    "import PIL\n",
    "import requests\n",
    "import shapely.geometry\n",
    "import scipy.spatial\n",
    "import sys\n",
    "import urllib.request\n",
    "import shapely"
   ]
  },
  {
   "cell_type": "code",
   "execution_count": 2,
   "id": "7579da04",
   "metadata": {},
   "outputs": [],
   "source": [
    "import subprocess\n",
    "import json\n",
    "from shapely.geometry import Polygon\n",
    "\n",
    "result = subprocess.run(['pdal', 'info', 'C:/Users/prazm/Documents/Python Scripts/data/input/2537_1153.las'],\n",
    "                        stderr = subprocess.PIPE,  # stderr and stdout get\n",
    "                        stdout = subprocess.PIPE)  # captured as bytestrings\n",
    "\n",
    "# decode stdout from bytestring and convert to a dictionary\n",
    "json_result = json.loads(result.stdout.decode())"
   ]
  },
  {
   "cell_type": "code",
   "execution_count": 4,
   "id": "29b5b7a7",
   "metadata": {},
   "outputs": [
    {
     "name": "stdout",
     "output_type": "stream",
     "text": [
      "{'file_size': 59893484, 'filename': 'C:/Users/prazm/Documents/Python Scripts/test.laz', 'now': '2022-07-31T11:45:02+0200', 'pdal_version': '2.4.2 (git-version: Release)', 'reader': 'readers.las', 'stats': {'bbox': {'native': {'bbox': {'maxx': 2560957.34, 'maxy': 1145889.72, 'maxz': 1152.7, 'minx': 2560075.67, 'miny': 1145137.73, 'minz': 795.86}, 'boundary': {'type': 'Polygon', 'coordinates': [[[2560075.67, 1145137.73, 795.86], [2560075.67, 1145889.72, 795.86], [2560957.34, 1145889.72, 1152.7], [2560957.34, 1145137.73, 1152.7], [2560075.67, 1145137.73, 795.86]]]}}}, 'statistic': [{'average': 2560567.03, 'count': 10731448, 'maximum': 2560957.34, 'minimum': 2560075.67, 'name': 'X', 'position': 0, 'stddev': 197.4748674, 'variance': 38996.32324}, {'average': 1145498.52, 'count': 10731448, 'maximum': 1145889.72, 'minimum': 1145137.73, 'name': 'Y', 'position': 1, 'stddev': 199.5701792, 'variance': 39828.25643}, {'average': 968.0563265, 'count': 10731448, 'maximum': 1152.7, 'minimum': 795.86, 'name': 'Z', 'position': 2, 'stddev': 76.67245137, 'variance': 5878.6648}, {'average': 305.0072215, 'count': 10731448, 'maximum': 38902, 'minimum': 5, 'name': 'Intensity', 'position': 3, 'stddev': 325.8954585, 'variance': 106207.8499}, {'average': 1.859636556, 'count': 10731448, 'maximum': 7, 'minimum': 1, 'name': 'ReturnNumber', 'position': 4, 'stddev': 1.123816872, 'variance': 1.262964363}, {'average': 2.724653467, 'count': 10731448, 'maximum': 7, 'minimum': 1, 'name': 'NumberOfReturns', 'position': 5, 'stddev': 1.481625519, 'variance': 2.195214179}, {'average': 0, 'count': 10731448, 'maximum': 0, 'minimum': 0, 'name': 'ScanDirectionFlag', 'position': 6, 'stddev': 0, 'variance': 0}, {'average': 0, 'count': 10731448, 'maximum': 0, 'minimum': 0, 'name': 'EdgeOfFlightLine', 'position': 7, 'stddev': 0, 'variance': 0}, {'average': 2.721427901, 'count': 10731448, 'maximum': 6, 'minimum': 1, 'name': 'Classification', 'position': 8, 'stddev': 0.551928326, 'variance': 0.304624877}, {'average': 0.6769320412, 'count': 10731448, 'maximum': 30, 'minimum': -30, 'name': 'ScanAngleRank', 'position': 9, 'stddev': 17.41341698, 'variance': 303.2270909}, {'average': 59.5624692, 'count': 10731448, 'maximum': 255, 'minimum': 0, 'name': 'UserData', 'position': 10, 'stddev': 15.14312301, 'variance': 229.3141745}, {'average': 7090.089952, 'count': 10731448, 'maximum': 7093, 'minimum': 7087, 'name': 'PointSourceId', 'position': 11, 'stddev': 1.085120256, 'variance': 1.177485971}, {'average': 223559539.5, 'count': 10731448, 'maximum': 223621615.1, 'minimum': 223556209.2, 'name': 'GpsTime', 'position': 12, 'stddev': 1104.076953, 'variance': 1218985.919}]}}\n"
     ]
    }
   ],
   "source": [
    "print (json_result)"
   ]
  },
  {
   "cell_type": "code",
   "execution_count": 3,
   "id": "bea108df",
   "metadata": {},
   "outputs": [],
   "source": [
    "coords = json_result['stats']['bbox']['native']['boundary']['coordinates']\n",
    "bbox_poly = Polygon(*coords)"
   ]
  },
  {
   "cell_type": "code",
   "execution_count": 4,
   "id": "04c64ad9",
   "metadata": {},
   "outputs": [
    {
     "data": {
      "image/svg+xml": [
       "<svg xmlns=\"http://www.w3.org/2000/svg\" xmlns:xlink=\"http://www.w3.org/1999/xlink\" width=\"300\" height=\"300\" viewBox=\"2536960.0004 1152960.0004 1079.9892000006512 1079.9891999999527\" preserveAspectRatio=\"xMinYMin meet\"><g transform=\"matrix(1,0,0,-1,0,2306999.99)\"><path fill-rule=\"evenodd\" fill=\"#66cc99\" stroke=\"#555555\" stroke-width=\"7.199928000004341\" opacity=\"0.6\" d=\"M 2537000.0,1153000.0 L 2537000.0,1153999.99 L 2537999.99,1153999.99 L 2537999.99,1153000.0 L 2537000.0,1153000.0 z\" /></g></svg>"
      ],
      "text/plain": [
       "<shapely.geometry.polygon.Polygon at 0x2244f0ec490>"
      ]
     },
     "metadata": {},
     "output_type": "display_data"
    },
    {
     "name": "stdout",
     "output_type": "stream",
     "text": [
      "POLYGON Z ((2537000 1153000 470.12, 2537000 1153999.99 470.12, 2537999.99 1153999.99 640.65, 2537999.99 1153000 640.65, 2537000 1153000 470.12))\n"
     ]
    }
   ],
   "source": [
    "IPython.display.display(bbox_poly)\n",
    "print(bbox_poly.wkt)"
   ]
  },
  {
   "cell_type": "code",
   "execution_count": 5,
   "id": "1ecebb6f",
   "metadata": {},
   "outputs": [
    {
     "data": {
      "image/svg+xml": [
       "<svg xmlns=\"http://www.w3.org/2000/svg\" xmlns:xlink=\"http://www.w3.org/1999/xlink\" width=\"100.0\" height=\"100.0\" viewBox=\"6.616896995455625 46.52479685024296 0.014222123415026822 0.010142116718697025\" preserveAspectRatio=\"xMinYMin meet\"><g transform=\"matrix(1,0,0,-1,0,93.05973581720461)\"><path fill-rule=\"evenodd\" fill=\"#66cc99\" stroke=\"#555555\" stroke-width=\"0.0002844424683005364\" opacity=\"0.6\" d=\"M 6.617560403585125,46.525323595554624 L 6.6174237407672925,46.53431860652938 L 6.63045787696995,46.53441222164999 L 6.630592373558985,46.525417195225565 L 6.617560403585125,46.525323595554624 z\" /></g></svg>"
      ],
      "text/plain": [
       "<shapely.geometry.polygon.Polygon at 0x2244f160160>"
      ]
     },
     "metadata": {},
     "output_type": "display_data"
    },
    {
     "name": "stdout",
     "output_type": "stream",
     "text": [
      "POLYGON Z ((6.617560403585125 46.525323595554624 470.12, 6.6174237407672925 46.53431860652938 470.12, 6.63045787696995 46.53441222164999 640.65, 6.630592373558985 46.525417195225565 640.65, 6.617560403585125 46.525323595554624 470.12))\n"
     ]
    }
   ],
   "source": [
    "import pyproj\n",
    "from shapely.ops import transform\n",
    "wsg84 = 'epsg:4326'\n",
    "ch1903plus= 'epsg:2056'\n",
    "project  = pyproj.Transformer.from_crs(ch1903plus, wsg84, always_xy=True).transform\n",
    "t_bbox_poly=transform(project, bbox_poly)\n",
    "IPython.display.display(t_bbox_poly)\n",
    "print(t_bbox_poly.wkt)"
   ]
  },
  {
   "cell_type": "code",
   "execution_count": 6,
   "id": "8e93bdc3",
   "metadata": {},
   "outputs": [
    {
     "data": {
      "application/vnd.jupyter.widget-view+json": {
       "model_id": "818b565a59a64f0f8eb2380a72fb5de3",
       "version_major": 2,
       "version_minor": 0
      },
      "text/plain": [
       "Map(center=[46.459222, 6.922641], controls=(ZoomControl(options=['position', 'zoom_in_text', 'zoom_in_title', …"
      ]
     },
     "metadata": {},
     "output_type": "display_data"
    }
   ],
   "source": [
    "from ipyleaflet import Map, WKTLayer\n",
    "m = ipyleaflet.Map(center=(46.459222, 6.922641), zoom=15)\n",
    "wlayer = WKTLayer( wkt_string=t_bbox_poly.wkt,)\n",
    "m.add_layer(wlayer)\n",
    "m"
   ]
  },
  {
   "cell_type": "code",
   "execution_count": 7,
   "id": "c94a8bb6",
   "metadata": {
    "scrolled": true
   },
   "outputs": [
    {
     "data": {
      "application/vnd.jupyter.widget-view+json": {
       "model_id": "36621fae8bc74f24936f994ba75f75fe",
       "version_major": 2,
       "version_minor": 0
      },
      "text/plain": [
       "Map(center=[46.459222, 6.922641], controls=(ZoomControl(options=['position', 'zoom_in_text', 'zoom_in_title', …"
      ]
     },
     "metadata": {},
     "output_type": "display_data"
    }
   ],
   "source": [
    "m = ipyleaflet.Map(center=(46.459222, 6.922641), zoom=15)\n",
    "dc = ipyleaflet.DrawControl()\n",
    "wlayer = WKTLayer( wkt_string=t_bbox_poly.wkt,)\n",
    "m.add_layer(wlayer)\n",
    "m.add_control(dc)\n",
    "m"
   ]
  },
  {
   "cell_type": "code",
   "execution_count": 8,
   "id": "ec44a769",
   "metadata": {},
   "outputs": [
    {
     "name": "stdout",
     "output_type": "stream",
     "text": [
      "POLYGON ((2537554.722507922 1153638.7271478488, 2537393.6739655645 1153587.040881583, 2537429.9600441675 1153512.8449606653, 2537570.0662664343 1153527.840849228, 2537554.722507922 1153638.7271478488))\n"
     ]
    },
    {
     "data": {
      "image/svg+xml": [
       "<svg xmlns=\"http://www.w3.org/2000/svg\" xmlns:xlink=\"http://www.w3.org/1999/xlink\" width=\"190.50368493935093\" height=\"139.99357125302777\" viewBox=\"2537386.6182735297 1153505.7892686306 190.50368493935093 139.99357125302777\" preserveAspectRatio=\"xMinYMin meet\"><g transform=\"matrix(1,0,0,-1,0,2307151.572108514)\"><path fill-rule=\"evenodd\" fill=\"#66cc99\" stroke=\"#555555\" stroke-width=\"2.0\" opacity=\"0.6\" d=\"M 2537554.722507922,1153638.7271478488 L 2537393.6739655645,1153587.040881583 L 2537429.9600441675,1153512.8449606653 L 2537570.0662664343,1153527.840849228 L 2537554.722507922,1153638.7271478488 z\" /></g></svg>"
      ],
      "text/plain": [
       "<shapely.geometry.polygon.Polygon at 0x2244f16f040>"
      ]
     },
     "metadata": {},
     "output_type": "display_data"
    }
   ],
   "source": [
    "wsg84 = 'epsg:4326'\n",
    "ch1903plus= 'epsg:2056'\n",
    "from pyproj import Transformer\n",
    "transformer = Transformer.from_crs(wsg84, ch1903plus)\n",
    "coords = [transformer.transform(y,x) for (x,y) in dc.last_draw['geometry']['coordinates'][0]]\n",
    "polygon = shapely.geometry.Polygon(coords)\n",
    "print(polygon.wkt)\n",
    "IPython.display.display(polygon)\n"
   ]
  },
  {
   "cell_type": "code",
   "execution_count": 13,
   "id": "820eac0b",
   "metadata": {},
   "outputs": [],
   "source": [
    "lidar_filename = \"test.laz\""
   ]
  },
  {
   "cell_type": "code",
   "execution_count": 14,
   "id": "a24ce071",
   "metadata": {},
   "outputs": [
    {
     "name": "stdout",
     "output_type": "stream",
     "text": [
      "CPU times: total: 34.9 s\n",
      "Wall time: 35.5 s\n"
     ]
    }
   ],
   "source": [
    "import pdal\n",
    "b = polygon.bounds\n",
    "cropper = {\n",
    "    \"pipeline\": [lidar_filename,\n",
    "        {   \"type\":\"filters.crop\",\n",
    "            'bounds':str(([b[0], b[2]],[b[1], b[3]]))},\n",
    "        {   \"type\":\"filters.crop\",\n",
    "            'polygon':polygon.wkt},\n",
    "        #{   \"type\":\"filters.hag\"},\n",
    "        {   \"type\":\"filters.eigenvalues\",\n",
    "            \"knn\":16},\n",
    "        {   \"type\":\"filters.normal\",\n",
    "            \"knn\":16}\n",
    "    ]}\n",
    "pipeline = pdal.Pipeline(json.dumps(cropper))\n",
    "#pipeline.validate()\n",
    "%time n_points = pipeline.execute()\n",
    "\n",
    "#print('Pipeline selected {} points ({:.1f} pts/m2)'.format(n_points, n_points/polygon.area))"
   ]
  },
  {
   "cell_type": "code",
   "execution_count": 15,
   "id": "0d8af634",
   "metadata": {},
   "outputs": [
    {
     "name": "stdout",
     "output_type": "stream",
     "text": [
      "Pipeline selected 1199302 points (29.1 pts/m2)\n"
     ]
    }
   ],
   "source": [
    "print('Pipeline selected {} points ({:.1f} pts/m2)'.format(n_points, n_points/polygon.area))"
   ]
  },
  {
   "cell_type": "code",
   "execution_count": 16,
   "id": "0522be74",
   "metadata": {},
   "outputs": [],
   "source": [
    "# Load Pipeline output in python objects\n",
    "arr = pipeline.arrays[0]\n",
    "description = arr.dtype.descr\n",
    "cols = [col for col, __ in description]\n",
    "df = pd.DataFrame({col: arr[col] for col in cols})\n",
    "df['X_0'] = df['X']\n",
    "df['Y_0'] = df['Y']\n",
    "df['Z_0'] = df['Z']\n",
    "df['X'] = df['X'] - df['X_0'].min()\n",
    "df['Y'] = df['Y'] - df['Y_0'].min()\n",
    "df['Z'] = df['Z'] - df['Z_0'].min()"
   ]
  },
  {
   "cell_type": "code",
   "execution_count": 17,
   "id": "efcc1eb8",
   "metadata": {
    "scrolled": false
   },
   "outputs": [
    {
     "data": {
      "application/vnd.jupyter.widget-view+json": {
       "model_id": "c3246b2fec7e47d7ba1b116a915126fe",
       "version_major": 2,
       "version_minor": 0
      },
      "text/plain": [
       "VBox(children=(Figure(camera=PerspectiveCamera(fov=46.0, position=(0.0, 0.0, 2.0), projectionMatrix=(1.0, 0.0,…"
      ]
     },
     "metadata": {},
     "output_type": "display_data"
    }
   ],
   "source": [
    "fig = p3.figure(width=600)\n",
    "fig.xlabel='Y'\n",
    "fig.ylabel='Z'\n",
    "fig.zlabel='X'\n",
    "all_points = p3.scatter(df['Y'], df['Z'], df['X'], color='red', size=.2)\n",
    "p3.squarelim()\n",
    "p3.show()"
   ]
  },
  {
   "cell_type": "code",
   "execution_count": 18,
   "id": "74007709",
   "metadata": {},
   "outputs": [
    {
     "data": {
      "application/javascript": [
       "// prevent click on the widget to jump throughout the notebook\n",
       "$(\".jupyter-widgets-view\").click(function(e){e.stopPropagation();})\n"
      ],
      "text/plain": [
       "<IPython.core.display.Javascript object>"
      ]
     },
     "metadata": {},
     "output_type": "display_data"
    }
   ],
   "source": [
    "%%javascript\n",
    "// prevent click on the widget to jump throughout the notebook\n",
    "$(\".jupyter-widgets-view\").click(function(e){e.stopPropagation();})"
   ]
  },
  {
   "cell_type": "code",
   "execution_count": 19,
   "id": "644815f8",
   "metadata": {},
   "outputs": [],
   "source": [
    "# Color ground in grey\n",
    "df['ground'] = df['Classification']==2\n",
    "ground = p3.scatter(df.loc[df['ground'],'Y'].values, df.loc[df['ground'],'Z'].values, df.loc[df['ground'],'X'].values, color='red', size=.2)\n",
    "non_ground = p3.scatter(df.loc[~df['ground'],'Y'].values, df.loc[~df['ground'],'Z'].values, df.loc[~df['ground'],'X'].values, color='red', size=.2)\n",
    "fig.scatters.append(ground)\n",
    "#fig.scatters.append(non_ground)\n",
    "all_points.visible = False\n",
    "ground.color='lightgrey'"
   ]
  },
  {
   "cell_type": "code",
   "execution_count": 20,
   "id": "c426aafd",
   "metadata": {},
   "outputs": [],
   "source": [
    "# Show ground as surface\n",
    "ground_delaunay = scipy.spatial.Delaunay(df.loc[df['ground'],['X','Y']])\n",
    "ground_surf = p3.plot_trisurf(df.loc[df['ground'],'Y'], df.loc[df['ground'],'Z'], df.loc[df['ground'],'X'], ground_delaunay.simplices, color='lightgrey')\n",
    "fig.meshes.append(ground_surf)\n",
    "ground.visible=False"
   ]
  },
  {
   "cell_type": "code",
   "execution_count": null,
   "id": "f1fa1601",
   "metadata": {},
   "outputs": [],
   "source": [
    "# Show ground as surface\n",
    "ground_delaunay = scipy.spatial.Delaunay(df.loc[df['ground'],['X','Y']])\n",
    "ground_surf = p3.plot_trisurf(df.loc[df['ground'],'Y'], df.loc[df['ground'],'Z'], df.loc[df['ground'],'X'], ground_delaunay.simplices, color='lightgrey')\n",
    "fig.meshes.append(ground_surf)\n",
    "ground.visible=False"
   ]
  },
  {
   "cell_type": "code",
   "execution_count": null,
   "id": "c5455e82",
   "metadata": {},
   "outputs": [],
   "source": [
    "# Color points according to flatness\n",
    "df['flatness'] = df['Eigenvalue0'] \n",
    "non_ground.color=matplotlib.cm.viridis(df.loc[~df['ground'],'flatness']*4)[:,0:3]"
   ]
  },
  {
   "cell_type": "code",
   "execution_count": null,
   "id": "c7675646",
   "metadata": {},
   "outputs": [],
   "source": [
    "# Separate between trees and the rest\n",
    "df['tree_potential'] = df['Classification']==3 \n",
    "df['other'] = ~df['ground'] & ~df['tree_potential']\n",
    "tree_potential = p3.scatter(df.loc[df['tree_potential'],'Y'].values, df.loc[df['tree_potential'],'Z'].values, df.loc[df['tree_potential'],'X'].values, color=matplotlib.cm.viridis(df.loc[df['tree_potential'],'flatness']*4)[:,0:3], size=.2)\n",
    "other = p3.scatter(df.loc[df['other'],'Y'].values, df.loc[df['other'],'Z'].values, df.loc[df['other'],'X'].values, color=matplotlib.cm.viridis(df.loc[df['other'],'flatness']*4)[:,0:3], size=.2)\n",
    "non_ground.visible=False\n",
    "tree_potential.color='darkgreen'\n",
    "other.color='red'"
   ]
  },
  {
   "cell_type": "code",
   "execution_count": null,
   "id": "540c7435",
   "metadata": {},
   "outputs": [],
   "source": [
    "#Hide non-tree\n",
    "other.visible=False"
   ]
  },
  {
   "cell_type": "code",
   "execution_count": null,
   "id": "fdbbc954",
   "metadata": {},
   "outputs": [],
   "source": [
    "from pcl_utils import local_max"
   ]
  },
  {
   "cell_type": "code",
   "execution_count": null,
   "id": "9e88e925",
   "metadata": {
    "scrolled": true
   },
   "outputs": [],
   "source": [
    "lep = local_max(df.loc[df['tree_potential'],['X','Y','Z']], radius=3, density_threshold=15)"
   ]
  },
  {
   "cell_type": "code",
   "execution_count": null,
   "id": "aea77e3b",
   "metadata": {},
   "outputs": [],
   "source": [
    "treetop_spheres = p3.scatter(lep['Y'].values, lep['Z'].values, lep['X'].values, color='red', size=.5, marker='sphere')\n",
    "fig.scatters.append(treetop_spheres)"
   ]
  },
  {
   "cell_type": "code",
   "execution_count": null,
   "id": "2ccc9cc8",
   "metadata": {},
   "outputs": [],
   "source": [
    "treetop_spheres.color = matplotlib.cm.tab20(np.arange(len(lep['Z']))%10)[:,0:3]"
   ]
  },
  {
   "cell_type": "code",
   "execution_count": null,
   "id": "f6e1c030",
   "metadata": {},
   "outputs": [],
   "source": [
    "kdtree = scipy.spatial.kdtree.KDTree(lep[['X','Y','Z']])\n",
    "dist, idx = kdtree.query(df.loc[df['tree_potential'],['X','Y','Z']].values)\n",
    "tree_potential.color=matplotlib.cm.tab20(idx%10)[:,0:3]\n",
    "df.loc[df['tree_potential'], 'tree_idx'] = idx"
   ]
  },
  {
   "cell_type": "code",
   "execution_count": null,
   "id": "de14e6a7",
   "metadata": {},
   "outputs": [],
   "source": [
    "medians = df.groupby('tree_idx')[['X','Y','Z']].median()\n",
    "for axis in ['X','Y','Z']:\n",
    "    df['d'+axis] = df[axis] - df['tree_idx'].map(medians[axis])\n",
    "df['radius'] = np.linalg.norm(df[['dX', 'dY', 'dZ']].values, axis=1)\n",
    "radii = pd.DataFrame([df.groupby('tree_idx')['radius'].quantile(.5), ]).min()"
   ]
  },
  {
   "cell_type": "code",
   "execution_count": null,
   "id": "73b8b3fa",
   "metadata": {},
   "outputs": [],
   "source": [
    "scale = max(df['X'].max() - df['X'].min(), df['Y'].max() - df['Y'].min())\n",
    "treetop_spheres.x = medians['Y']\n",
    "treetop_spheres.y = medians['Z']\n",
    "treetop_spheres.z = medians['X']\n",
    "treetop_spheres.size = radii * 100 / scale"
   ]
  },
  {
   "cell_type": "code",
   "execution_count": null,
   "id": "9e7aaba3",
   "metadata": {},
   "outputs": [],
   "source": [
    "tree_potential.visible = False"
   ]
  },
  {
   "cell_type": "code",
   "execution_count": null,
   "id": "f6d87f79",
   "metadata": {},
   "outputs": [],
   "source": [
    "other.visible = True\n",
    "treetop_spheres.color='darkgreen'\n",
    "p3.style.use('minimal')"
   ]
  },
  {
   "cell_type": "code",
   "execution_count": null,
   "id": "c2310781",
   "metadata": {},
   "outputs": [],
   "source": []
  }
 ],
 "metadata": {
  "kernelspec": {
   "display_name": "Python 3 (ipykernel)",
   "language": "python",
   "name": "python3"
  },
  "language_info": {
   "codemirror_mode": {
    "name": "ipython",
    "version": 3
   },
   "file_extension": ".py",
   "mimetype": "text/x-python",
   "name": "python",
   "nbconvert_exporter": "python",
   "pygments_lexer": "ipython3",
   "version": "3.9.12"
  }
 },
 "nbformat": 4,
 "nbformat_minor": 5
}
