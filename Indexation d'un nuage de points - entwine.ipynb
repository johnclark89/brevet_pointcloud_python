{
 "cells": [
  {
   "cell_type": "markdown",
   "id": "6e6f0e56",
   "metadata": {},
   "source": [
    "# Indexation de nuages de points (Entwine)\n",
    "\n",
    "**Entwine** est une librairie open source (licence LGPLv2) en C/C++ qui permet l'indexation des nuages de points.\n",
    "\n",
    "Elle peut indexer plusieurs milliards de points sans aucune perte.\n",
    "\n",
    "Ce n'est pas une librairie python mais elle accepte en entrée les mêmes formats que PDAL.\n",
    "\n",
    "https://github.com/connormanning/entwine#readme\n",
    "https://entwine.io/\n",
    "\n",
    "## Indexation\n",
    "\n",
    "Nous allons indexer tous les fichiers se trouvant dans le répertoire input."
   ]
  },
  {
   "cell_type": "code",
   "execution_count": 1,
   "id": "e980df83",
   "metadata": {},
   "outputs": [
    {
     "name": "stdout",
     "output_type": "stream",
     "text": [
      "entwine build -i C:\\Users\\prazm\\Documents\\GitHub\\brevet_pointcloud_python\\data\\input\\ -o entwine/sa3d -r EPSG:2056 EPSG:2056\n",
      "CPU times: total: 31.2 ms\n",
      "Wall time: 3min 40s\n"
     ]
    }
   ],
   "source": [
    "%%time\n",
    "import subprocess\n",
    "import pathlib\n",
    "from pathlib import Path\n",
    "datasource = pathlib.Path.cwd() /'data'/'input'\n",
    "output = pathlib.Path.cwd() /'data'/'output'\n",
    "file = '2560_1145.las'\n",
    "\n",
    "cmd = r\"entwine build -i C:\\Users\\prazm\\Documents\\GitHub\\brevet_pointcloud_python\\data\\input\\ -o entwine/sa3d -r EPSG:2056 EPSG:2056\"\n",
    "print(cmd)\n",
    "p = subprocess.call(cmd,shell=True)  "
   ]
  },
  {
   "cell_type": "code",
   "execution_count": null,
   "id": "8d57d6e1",
   "metadata": {},
   "outputs": [],
   "source": [
    "Nous avons à présent indexé en quelques minutes plus de "
   ]
  },
  {
   "cell_type": "code",
   "execution_count": 1,
   "id": "46449f04",
   "metadata": {},
   "outputs": [
    {
     "name": "stdout",
     "output_type": "stream",
     "text": [
      "http-server entwine -p 8080 --cors\n"
     ]
    }
   ],
   "source": [
    "import subprocess\n",
    "cmd = \"http-server entwine -p 8080 --cors\"\n",
    "print(cmd)\n",
    "p = subprocess.call(cmd,shell=True) "
   ]
  },
  {
   "cell_type": "code",
   "execution_count": 6,
   "id": "5bded88a",
   "metadata": {},
   "outputs": [
    {
     "data": {
      "text/html": [
       "\n",
       "        <iframe\n",
       "            width=\"1000\"\n",
       "            height=\"600\"\n",
       "            src=\"https://potree.entwine.io/data/view.html?r=%22http://localhost:8080/sa3d%22\"\n",
       "            frameborder=\"0\"\n",
       "            allowfullscreen\n",
       "            \n",
       "        ></iframe>\n",
       "        "
      ],
      "text/plain": [
       "<IPython.lib.display.IFrame at 0x1671f9b1550>"
      ]
     },
     "execution_count": 6,
     "metadata": {},
     "output_type": "execute_result"
    }
   ],
   "source": [
    "from IPython.display import IFrame\n",
    "\n",
    "url = r'https://potree.entwine.io/data/view.html?r=%22http://localhost:8080/sa3d%22'\n",
    "IFrame(url, width=1000, height=600)"
   ]
  },
  {
   "cell_type": "code",
   "execution_count": 11,
   "id": "83b4772c",
   "metadata": {},
   "outputs": [
    {
     "ename": "AttributeError",
     "evalue": "'int' object has no attribute 'terminate'",
     "output_type": "error",
     "traceback": [
      "\u001b[1;31m---------------------------------------------------------------------------\u001b[0m",
      "\u001b[1;31mAttributeError\u001b[0m                            Traceback (most recent call last)",
      "Input \u001b[1;32mIn [11]\u001b[0m, in \u001b[0;36m<cell line: 1>\u001b[1;34m()\u001b[0m\n\u001b[1;32m----> 1\u001b[0m \u001b[43mp\u001b[49m\u001b[38;5;241;43m.\u001b[39;49m\u001b[43mterminate\u001b[49m()\n",
      "\u001b[1;31mAttributeError\u001b[0m: 'int' object has no attribute 'terminate'"
     ]
    }
   ],
   "source": [
    "p.terminate()"
   ]
  },
  {
   "cell_type": "code",
   "execution_count": null,
   "id": "4a21835f",
   "metadata": {},
   "outputs": [],
   "source": []
  }
 ],
 "metadata": {
  "kernelspec": {
   "display_name": "Python 3 (ipykernel)",
   "language": "python",
   "name": "python3"
  },
  "language_info": {
   "codemirror_mode": {
    "name": "ipython",
    "version": 3
   },
   "file_extension": ".py",
   "mimetype": "text/x-python",
   "name": "python",
   "nbconvert_exporter": "python",
   "pygments_lexer": "ipython3",
   "version": "3.9.12"
  }
 },
 "nbformat": 4,
 "nbformat_minor": 5
}
