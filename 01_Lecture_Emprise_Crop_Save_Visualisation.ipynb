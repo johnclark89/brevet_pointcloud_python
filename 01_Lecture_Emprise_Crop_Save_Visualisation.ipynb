{
 "cells": [
  {
   "cell_type": "markdown",
   "id": "7233a644",
   "metadata": {},
   "source": [
    "# Lecture des métadonnées d'un nuage de points\n",
    "\n",
    "Pour débuter, nous allons lire les information du fichier las ou laz à l'aide de la commande suivante"
   ]
  },
  {
   "cell_type": "code",
   "execution_count": null,
   "id": "92e05697",
   "metadata": {},
   "outputs": [],
   "source": [
    "%%time\n",
    "import subprocess\n",
    "import json\n",
    "from shapely.geometry import Polygon\n",
    "import pathlib\n",
    "from pathlib import Path\n",
    "\n",
    "\n",
    "#chemin du fichier source\n",
    "datasource = pathlib.Path.cwd() /'data'/'input'\n",
    "output = pathlib.Path.cwd() /'data'/'output'\n",
    "file = '2560_1145.las'\n",
    "\n",
    "#exécution de pdal info pour accéder aux métadonnées du fichier \n",
    "result = subprocess.run(['pdal', 'info', datasource/file],\n",
    "                        stderr = subprocess.PIPE,  # stderr and stdout get\n",
    "                        stdout = subprocess.PIPE)  # captured as bytestrings\n",
    "\n",
    "# décode du stdout en bytestring et parsage dans un dictionnaire\n",
    "json_result = json.loads(result.stdout.decode())"
   ]
  },
  {
   "cell_type": "markdown",
   "id": "2183c711",
   "metadata": {},
   "source": [
    "Les métadonnées du fichier sont maintenant contenues dans un dictionnaire"
   ]
  },
  {
   "cell_type": "code",
   "execution_count": null,
   "id": "20a09cde",
   "metadata": {},
   "outputs": [],
   "source": [
    "print(json.dumps(json_result, indent=5))"
   ]
  },
  {
   "cell_type": "markdown",
   "id": "c0a0a4c6",
   "metadata": {},
   "source": [
    "# Création d'un poylgone selon l'emprise boundary\n",
    "\n",
    "Grace aux métadonnées et plus spécifiquement à l'attribut **boundary**, nous récupérons l'emprise du nuage de points (bounding box)"
   ]
  },
  {
   "cell_type": "code",
   "execution_count": null,
   "id": "8ef39506",
   "metadata": {},
   "outputs": [],
   "source": [
    "coords = json_result['stats']['bbox']['native']['boundary']['coordinates']\n",
    "print(json.dumps(coords, indent=1))\n",
    "bbox_poly = Polygon(*coords)"
   ]
  },
  {
   "cell_type": "markdown",
   "id": "40a979cd",
   "metadata": {},
   "source": [
    "Nous remarquons que les coordonnées dépendent du sysème de projection du fichier (en l'occurence Swiss CH1903+ / LV95).\n",
    "\n",
    "Nous souhaitons visualiser l'emprise avec **ipyleaflet** (une intégration de LeafletJS à Jupyter). Nous devons donc **reprojeter** l'emprise de ch1903plus vers le crs par défaut d'ipyleflet (WGS84)."
   ]
  },
  {
   "cell_type": "code",
   "execution_count": null,
   "id": "3cb0833e",
   "metadata": {},
   "outputs": [],
   "source": [
    "import pyproj\n",
    "import IPython.display\n",
    "import ipyleaflet\n",
    "from ipyleaflet import Map, WKTLayer\n",
    "from shapely.ops import transform\n",
    "wsg84 = 'epsg:4326'\n",
    "ch1903plus= 'epsg:2056'\n",
    "project  = pyproj.Transformer.from_crs(ch1903plus, wsg84, always_xy=True).transform\n",
    "wsg84_bbox_poly=transform(project, bbox_poly)\n",
    "IPython.display.display(wsg84_bbox_poly)\n",
    "print(wsg84_bbox_poly.wkt)\n",
    "m = ipyleaflet.Map(center=(wsg84_bbox_poly.centroid.y, wsg84_bbox_poly.centroid.x), zoom=14)\n",
    "wlayer = WKTLayer( wkt_string=wsg84_bbox_poly.wkt,)\n",
    "m.add_layer(wlayer)\n",
    "m"
   ]
  },
  {
   "cell_type": "markdown",
   "id": "7f6f9b93",
   "metadata": {},
   "source": [
    "Nous voyons donc ci-dessus l'emrpise du nuage de points. De manière plus précise, c'est l'emprise rectangulaire définie par les coordonnées minimales et maximales des points."
   ]
  },
  {
   "cell_type": "markdown",
   "id": "db05c7cb",
   "metadata": {},
   "source": [
    "# Extraction des points\n",
    "\n",
    "Nous souhaitons traiter une zone en particulier. Je vous propose de saisir cette zone via l'outil **Draw a polygon** un polygone de la zone à extraire."
   ]
  },
  {
   "cell_type": "code",
   "execution_count": null,
   "id": "f2fbb60d",
   "metadata": {
    "scrolled": true
   },
   "outputs": [],
   "source": [
    "from pyproj import Transformer\n",
    "m = ipyleaflet.Map(center=(wsg84_bbox_poly.centroid.y, wsg84_bbox_poly.centroid.x), zoom=16)\n",
    "wlayer = WKTLayer( wkt_string=wsg84_bbox_poly.wkt,)\n",
    "m.add_layer(wlayer)\n",
    "dc = ipyleaflet.DrawControl()\n",
    "m.add_control(dc)\n",
    "m"
   ]
  },
  {
   "cell_type": "markdown",
   "id": "cf80da1f",
   "metadata": {},
   "source": [
    "Une fois le polygone tracé avec l'outil polygone, exécuter la cellule suivante."
   ]
  },
  {
   "cell_type": "code",
   "execution_count": null,
   "id": "8b0cc8a9",
   "metadata": {},
   "outputs": [],
   "source": [
    "from pyproj import transformer\n",
    "import shapely\n",
    "transformer = Transformer.from_crs(wsg84, ch1903plus)\n",
    "coords_draw = [transformer.transform(y,x) for (x,y) in dc.last_draw['geometry']['coordinates'][0]]\n",
    "polygon_draw = shapely.geometry.Polygon(coords_draw)\n",
    "print(polygon_draw.wkt)\n",
    "IPython.display.display(polygon_draw)"
   ]
  },
  {
   "cell_type": "markdown",
   "id": "51b2ee8c",
   "metadata": {},
   "source": [
    "Ci-dessus, le polygone que nous avons dessiné."
   ]
  },
  {
   "cell_type": "code",
   "execution_count": null,
   "id": "5d25f752",
   "metadata": {},
   "outputs": [],
   "source": [
    "print(polygon_draw.bounds)"
   ]
  },
  {
   "cell_type": "markdown",
   "id": "00f91740",
   "metadata": {},
   "source": [
    "Via PDAL, nous allons **filtrer** les points du nuage d'origine en fonction du poylgone que nous venons de déterminer."
   ]
  },
  {
   "cell_type": "code",
   "execution_count": null,
   "id": "0f12dc6e",
   "metadata": {},
   "outputs": [],
   "source": [
    "import pdal\n",
    "polygon_draw_bounds = polygon_draw.bounds\n",
    "cropper = {\n",
    "    \"pipeline\": [str(datasource/file),\n",
    "        {   \"type\":\"filters.crop\",\n",
    "            'bounds':str(([polygon_draw_bounds[0], polygon_draw_bounds[2]],[polygon_draw_bounds[1], polygon_draw_bounds[3]]))},\n",
    "        {   \"type\":\"filters.crop\",\n",
    "            'polygon':polygon_draw.wkt\n",
    "        },\n",
    "        {   \"type\":\"writers.las\",\n",
    "            \"filename\": str(output)+\"\\\\\"+\"cloud_crop.laz\"\n",
    "        },\n",
    "    ]}\n",
    "pipeline = pdal.Pipeline(json.dumps(cropper))\n",
    "%time n_points = pipeline.execute()\n",
    "\n",
    "print('Pipeline selected {} points ({:.1f} pts/m2)'.format(n_points, n_points/polygon_draw.area))"
   ]
  },
  {
   "cell_type": "markdown",
   "id": "323bbef2",
   "metadata": {},
   "source": [
    "# Visualisation\n",
    "\n",
    "Nous allons visualiser les points extraits via **Ipyvolume**."
   ]
  },
  {
   "cell_type": "code",
   "execution_count": null,
   "id": "aab28eed",
   "metadata": {},
   "outputs": [],
   "source": [
    "import ipyvolume.pylab as p3\n",
    "import pandas as pd\n",
    "# Load Pipeline output in python objects\n",
    "arr = pipeline.arrays[0]\n",
    "description = arr.dtype.descr\n",
    "cols = [col for col, __ in description]\n",
    "df = pd.DataFrame({col: arr[col] for col in cols})\n",
    "df['X_0'] = df['X']\n",
    "df['Y_0'] = df['Y']\n",
    "df['Z_0'] = df['Z']\n",
    "df['X'] = df['X'] - df['X_0'].min()\n",
    "df['Y'] = df['Y'] - df['Y_0'].min()\n",
    "df['Z'] = df['Z'] - df['Z_0'].min()"
   ]
  },
  {
   "cell_type": "code",
   "execution_count": null,
   "id": "cdf2a834",
   "metadata": {},
   "outputs": [],
   "source": [
    "fig = p3.figure(width=950)\n",
    "fig.xlabel='Y'\n",
    "fig.ylabel='Z'\n",
    "fig.zlabel='X'\n",
    "all_points = p3.scatter(df['Y'], df['Z'], df['X'], color='red', size=.1,marker='box')\n",
    "p3.squarelim()\n",
    "p3.show()"
   ]
  },
  {
   "cell_type": "code",
   "execution_count": null,
   "id": "e17e6cf1",
   "metadata": {},
   "outputs": [],
   "source": [
    "import scipy\n",
    "# Color ground in grey\n",
    "df['ground'] = df['Classification']==2\n",
    "ground = p3.scatter(df.loc[df['ground'],'Y'].values, df.loc[df['ground'],'Z'].values, df.loc[df['ground'],'X'].values, color='red', size=.9)\n",
    "non_ground = p3.scatter(df.loc[~df['ground'],'Y'].values, df.loc[~df['ground'],'Z'].values, df.loc[~df['ground'],'X'].values, color='red', size=.1)\n",
    "fig.scatters.append(ground)\n",
    "fig.scatters.append(non_ground)\n",
    "all_points.visible = False\n",
    "ground.color='lightgrey'\n",
    "# Show ground as surface\n",
    "ground_delaunay = scipy.spatial.Delaunay(df.loc[df['ground'],['X','Y']])\n",
    "ground_surf = p3.plot_trisurf(df.loc[df['ground'],'Y'], df.loc[df['ground'],'Z'], df.loc[df['ground'],'X'], ground_delaunay.simplices, color='lightgrey')\n",
    "fig.meshes.append(ground_surf)\n",
    "ground.visible=False\n",
    "\n"
   ]
  },
  {
   "cell_type": "code",
   "execution_count": null,
   "id": "42ce921a",
   "metadata": {},
   "outputs": [],
   "source": [
    "non_ground.visible=False\n",
    "all_points.visible =False\n",
    "ground.visible=False"
   ]
  },
  {
   "cell_type": "markdown",
   "id": "69e8dcfd",
   "metadata": {},
   "source": [
    "Travaille du rendu pour que celà soit plus compréhensible. On crée une surface avec les points \"groud\" puis ces points sont supprimés."
   ]
  }
 ],
 "metadata": {
  "kernelspec": {
   "display_name": "Python 3 (ipykernel)",
   "language": "python",
   "name": "python3"
  },
  "language_info": {
   "codemirror_mode": {
    "name": "ipython",
    "version": 3
   },
   "file_extension": ".py",
   "mimetype": "text/x-python",
   "name": "python",
   "nbconvert_exporter": "python",
   "pygments_lexer": "ipython3",
   "version": "3.9.12"
  }
 },
 "nbformat": 4,
 "nbformat_minor": 5
}
