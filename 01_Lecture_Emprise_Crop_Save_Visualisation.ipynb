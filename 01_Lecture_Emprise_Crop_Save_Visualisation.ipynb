{
 "cells": [
  {
   "cell_type": "markdown",
   "id": "7233a644",
   "metadata": {},
   "source": [
    "# Lecture des métadonnées d'un nuage de points\n",
    "\n",
    "Pour débuter, nous allons lire les information du fichier las ou laz à l'aide de la commande suivante"
   ]
  },
  {
   "cell_type": "code",
   "execution_count": 2,
   "id": "92e05697",
   "metadata": {},
   "outputs": [
    {
     "name": "stdout",
     "output_type": "stream",
     "text": [
      "CPU times: total: 109 ms\n",
      "Wall time: 12.1 s\n"
     ]
    }
   ],
   "source": [
    "%%time\n",
    "import subprocess\n",
    "import json\n",
    "from shapely.geometry import Polygon\n",
    "import pathlib\n",
    "from pathlib import Path\n",
    "\n",
    "\n",
    "#chemin du fichier source\n",
    "datasource = pathlib.Path.cwd() /'data'/'input'\n",
    "output = pathlib.Path.cwd() /'data'/'output'\n",
    "file = '2560_1145.las'\n",
    "\n",
    "#exécution de pdal info pour accéder aux métadonnées du fichier \n",
    "result = subprocess.run(['pdal', 'info', datasource/file],\n",
    "                        stderr = subprocess.PIPE,  # stderr and stdout get\n",
    "                        stdout = subprocess.PIPE)  # captured as bytestrings\n",
    "\n",
    "# décode du stdout en bytestring et parsage dans un dictionnaire\n",
    "json_result = json.loads(result.stdout.decode())"
   ]
  },
  {
   "cell_type": "markdown",
   "id": "2183c711",
   "metadata": {},
   "source": [
    "Les métadonnées du fichier sont maintenant contenues dans un dictionnaire"
   ]
  },
  {
   "cell_type": "code",
   "execution_count": 3,
   "id": "20a09cde",
   "metadata": {},
   "outputs": [
    {
     "name": "stdout",
     "output_type": "stream",
     "text": [
      "{\n",
      "     \"file_size\": 826723075,\n",
      "     \"filename\": \"C:\\\\Users\\\\prazm\\\\Documents\\\\GitHub\\\\brevet_pointcloud_python\\\\data\\\\input\\\\2560_1145.las\",\n",
      "     \"now\": \"2022-08-21T09:36:25+0200\",\n",
      "     \"pdal_version\": \"2.4.2 (git-version: Release)\",\n",
      "     \"reader\": \"readers.las\",\n",
      "     \"stats\": {\n",
      "          \"bbox\": {\n",
      "               \"native\": {\n",
      "                    \"bbox\": {\n",
      "                         \"maxx\": 2560999.99,\n",
      "                         \"maxy\": 1145999.99,\n",
      "                         \"maxz\": 1211.56,\n",
      "                         \"minx\": 2560000,\n",
      "                         \"miny\": 1145000,\n",
      "                         \"minz\": 741.45\n",
      "                    },\n",
      "                    \"boundary\": {\n",
      "                         \"type\": \"Polygon\",\n",
      "                         \"coordinates\": [\n",
      "                              [\n",
      "                                   [\n",
      "                                        2560000.0,\n",
      "                                        1145000.0,\n",
      "                                        741.45\n",
      "                                   ],\n",
      "                                   [\n",
      "                                        2560000.0,\n",
      "                                        1145999.99,\n",
      "                                        741.45\n",
      "                                   ],\n",
      "                                   [\n",
      "                                        2560999.99,\n",
      "                                        1145999.99,\n",
      "                                        1211.56\n",
      "                                   ],\n",
      "                                   [\n",
      "                                        2560999.99,\n",
      "                                        1145000.0,\n",
      "                                        1211.56\n",
      "                                   ],\n",
      "                                   [\n",
      "                                        2560000.0,\n",
      "                                        1145000.0,\n",
      "                                        741.45\n",
      "                                   ]\n",
      "                              ]\n",
      "                         ]\n",
      "                    }\n",
      "               }\n",
      "          },\n",
      "          \"statistic\": [\n",
      "               {\n",
      "                    \"average\": 2560499.978,\n",
      "                    \"count\": 29525816,\n",
      "                    \"maximum\": 2560999.99,\n",
      "                    \"minimum\": 2560000,\n",
      "                    \"name\": \"X\",\n",
      "                    \"position\": 0,\n",
      "                    \"stddev\": 277.9753221,\n",
      "                    \"variance\": 77270.27971\n",
      "               },\n",
      "               {\n",
      "                    \"average\": 1145510.631,\n",
      "                    \"count\": 29525816,\n",
      "                    \"maximum\": 1145999.99,\n",
      "                    \"minimum\": 1145000,\n",
      "                    \"name\": \"Y\",\n",
      "                    \"position\": 1,\n",
      "                    \"stddev\": 303.3526089,\n",
      "                    \"variance\": 92022.8053\n",
      "               },\n",
      "               {\n",
      "                    \"average\": 954.2769592,\n",
      "                    \"count\": 29525816,\n",
      "                    \"maximum\": 1211.56,\n",
      "                    \"minimum\": 741.45,\n",
      "                    \"name\": \"Z\",\n",
      "                    \"position\": 2,\n",
      "                    \"stddev\": 92.97619801,\n",
      "                    \"variance\": 8644.573396\n",
      "               },\n",
      "               {\n",
      "                    \"average\": 290.8799779,\n",
      "                    \"count\": 29525816,\n",
      "                    \"maximum\": 38902,\n",
      "                    \"minimum\": 5,\n",
      "                    \"name\": \"Intensity\",\n",
      "                    \"position\": 3,\n",
      "                    \"stddev\": 328.8267799,\n",
      "                    \"variance\": 108127.0512\n",
      "               },\n",
      "               {\n",
      "                    \"average\": 1.920016097,\n",
      "                    \"count\": 29525816,\n",
      "                    \"maximum\": 7,\n",
      "                    \"minimum\": 1,\n",
      "                    \"name\": \"ReturnNumber\",\n",
      "                    \"position\": 4,\n",
      "                    \"stddev\": 1.137928053,\n",
      "                    \"variance\": 1.294880254\n",
      "               },\n",
      "               {\n",
      "                    \"average\": 2.8444106,\n",
      "                    \"count\": 29525816,\n",
      "                    \"maximum\": 7,\n",
      "                    \"minimum\": 1,\n",
      "                    \"name\": \"NumberOfReturns\",\n",
      "                    \"position\": 5,\n",
      "                    \"stddev\": 1.456271448,\n",
      "                    \"variance\": 2.120726531\n",
      "               },\n",
      "               {\n",
      "                    \"average\": 0,\n",
      "                    \"count\": 29525816,\n",
      "                    \"maximum\": 0,\n",
      "                    \"minimum\": 0,\n",
      "                    \"name\": \"ScanDirectionFlag\",\n",
      "                    \"position\": 6,\n",
      "                    \"stddev\": 0,\n",
      "                    \"variance\": 0\n",
      "               },\n",
      "               {\n",
      "                    \"average\": 0,\n",
      "                    \"count\": 29525816,\n",
      "                    \"maximum\": 0,\n",
      "                    \"minimum\": 0,\n",
      "                    \"name\": \"EdgeOfFlightLine\",\n",
      "                    \"position\": 7,\n",
      "                    \"stddev\": 0,\n",
      "                    \"variance\": 0\n",
      "               },\n",
      "               {\n",
      "                    \"average\": 2.755870761,\n",
      "                    \"count\": 29525816,\n",
      "                    \"maximum\": 17,\n",
      "                    \"minimum\": 1,\n",
      "                    \"name\": \"Classification\",\n",
      "                    \"position\": 8,\n",
      "                    \"stddev\": 0.5072897097,\n",
      "                    \"variance\": 0.2573428496\n",
      "               },\n",
      "               {\n",
      "                    \"average\": 0.1364602421,\n",
      "                    \"count\": 29525816,\n",
      "                    \"maximum\": 30,\n",
      "                    \"minimum\": -30,\n",
      "                    \"name\": \"ScanAngleRank\",\n",
      "                    \"position\": 9,\n",
      "                    \"stddev\": 17.15648045,\n",
      "                    \"variance\": 294.3448214\n",
      "               },\n",
      "               {\n",
      "                    \"average\": 59.82813593,\n",
      "                    \"count\": 29525816,\n",
      "                    \"maximum\": 255,\n",
      "                    \"minimum\": 0,\n",
      "                    \"name\": \"UserData\",\n",
      "                    \"position\": 10,\n",
      "                    \"stddev\": 15.15081187,\n",
      "                    \"variance\": 229.5471002\n",
      "               },\n",
      "               {\n",
      "                    \"average\": 7090.227989,\n",
      "                    \"count\": 29525816,\n",
      "                    \"maximum\": 7093,\n",
      "                    \"minimum\": 7087,\n",
      "                    \"name\": \"PointSourceId\",\n",
      "                    \"position\": 11,\n",
      "                    \"stddev\": 1.193793047,\n",
      "                    \"variance\": 1.425141839\n",
      "               },\n",
      "               {\n",
      "                    \"average\": 223561213.9,\n",
      "                    \"count\": 29525816,\n",
      "                    \"maximum\": 223621623.8,\n",
      "                    \"minimum\": 223556206.4,\n",
      "                    \"name\": \"GpsTime\",\n",
      "                    \"position\": 12,\n",
      "                    \"stddev\": 9913.903332,\n",
      "                    \"variance\": 98285479.27\n",
      "               }\n",
      "          ]\n",
      "     }\n",
      "}\n"
     ]
    }
   ],
   "source": [
    "print(json.dumps(json_result, indent=5))"
   ]
  },
  {
   "cell_type": "markdown",
   "id": "c0a0a4c6",
   "metadata": {},
   "source": [
    "# Création d'un poylgon selon l'emprise boundary\n",
    "\n",
    "Grace aux métadonnées et plus spécifiquement à l'attribut **boundary**, nous récupérons l'emprise du nuage de points (bounding box)"
   ]
  },
  {
   "cell_type": "code",
   "execution_count": 4,
   "id": "8ef39506",
   "metadata": {},
   "outputs": [
    {
     "name": "stdout",
     "output_type": "stream",
     "text": [
      "[\n",
      " [\n",
      "  [\n",
      "   2560000.0,\n",
      "   1145000.0,\n",
      "   741.45\n",
      "  ],\n",
      "  [\n",
      "   2560000.0,\n",
      "   1145999.99,\n",
      "   741.45\n",
      "  ],\n",
      "  [\n",
      "   2560999.99,\n",
      "   1145999.99,\n",
      "   1211.56\n",
      "  ],\n",
      "  [\n",
      "   2560999.99,\n",
      "   1145000.0,\n",
      "   1211.56\n",
      "  ],\n",
      "  [\n",
      "   2560000.0,\n",
      "   1145000.0,\n",
      "   741.45\n",
      "  ]\n",
      " ]\n",
      "]\n"
     ]
    }
   ],
   "source": [
    "coords = json_result['stats']['bbox']['native']['boundary']['coordinates']\n",
    "print(json.dumps(coords, indent=1))\n",
    "bbox_poly = Polygon(*coords)"
   ]
  },
  {
   "cell_type": "markdown",
   "id": "40a979cd",
   "metadata": {},
   "source": [
    "Nous remarquons que les coordonnées dépendent du sysème de projection du fichier (en l'occurence Swiss CH1903+ / LV95).\n",
    "\n",
    "Nous souhaitons visualiser l'emprise avec **ipyleaflet** (une intégration de LeafletJS à Jupyter). Nous devons donc **reprojeter** l'emprise de ch1903plus vers le crs par défaut d'ipyleflet (WGS84)."
   ]
  },
  {
   "cell_type": "code",
   "execution_count": 5,
   "id": "3cb0833e",
   "metadata": {},
   "outputs": [
    {
     "data": {
      "image/svg+xml": [
       "<svg xmlns=\"http://www.w3.org/2000/svg\" xmlns:xlink=\"http://www.w3.org/1999/xlink\" width=\"100.0\" height=\"100.0\" viewBox=\"6.917391198930761 46.45461003702154 0.014150322989689101 0.010102700929166986\" preserveAspectRatio=\"xMinYMin meet\"><g transform=\"matrix(1,0,0,-1,0,92.91932277497224)\"><path fill-rule=\"evenodd\" fill=\"#66cc99\" stroke=\"#555555\" stroke-width=\"0.000283006459793782\" opacity=\"0.6\" d=\"M 6.918001888553011,46.455134123058194 L 6.917915284967417,46.4641294511494 L 6.930932993286067,46.46418865191405 L 6.931017435883795,46.45519331400965 L 6.918001888553011,46.455134123058194 z\" /></g></svg>"
      ],
      "text/plain": [
       "<shapely.geometry.polygon.Polygon at 0x1af6ff980a0>"
      ]
     },
     "metadata": {},
     "output_type": "display_data"
    },
    {
     "name": "stdout",
     "output_type": "stream",
     "text": [
      "POLYGON Z ((6.918001888553011 46.455134123058194 741.45, 6.917915284967417 46.4641294511494 741.45, 6.930932993286067 46.46418865191405 1211.56, 6.931017435883795 46.45519331400965 1211.56, 6.918001888553011 46.455134123058194 741.45))\n"
     ]
    },
    {
     "data": {
      "application/vnd.jupyter.widget-view+json": {
       "model_id": "f22b3438de1247c58769ae6d5f0a8ae2",
       "version_major": 2,
       "version_minor": 0
      },
      "text/plain": [
       "Map(center=[46.45966150948135, 6.9244668994876495], controls=(ZoomControl(options=['position', 'zoom_in_text',…"
      ]
     },
     "metadata": {},
     "output_type": "display_data"
    }
   ],
   "source": [
    "import pyproj\n",
    "import IPython.display\n",
    "import ipyleaflet\n",
    "from ipyleaflet import Map, WKTLayer\n",
    "from shapely.ops import transform\n",
    "wsg84 = 'epsg:4326'\n",
    "ch1903plus= 'epsg:2056'\n",
    "project  = pyproj.Transformer.from_crs(ch1903plus, wsg84, always_xy=True).transform\n",
    "wsg84_bbox_poly=transform(project, bbox_poly)\n",
    "IPython.display.display(wsg84_bbox_poly)\n",
    "print(wsg84_bbox_poly.wkt)\n",
    "m = ipyleaflet.Map(center=(wsg84_bbox_poly.centroid.y, wsg84_bbox_poly.centroid.x), zoom=14)\n",
    "wlayer = WKTLayer( wkt_string=wsg84_bbox_poly.wkt,)\n",
    "m.add_layer(wlayer)\n",
    "m"
   ]
  },
  {
   "cell_type": "markdown",
   "id": "7f6f9b93",
   "metadata": {},
   "source": [
    "Nous voyons donc ci-dessus l'emrpise du nuage de points. De manière plus précise, c'est l'emprise rectangulaire définie par les coordonnées minimales et maximales des points."
   ]
  },
  {
   "cell_type": "markdown",
   "id": "db05c7cb",
   "metadata": {},
   "source": [
    "# Extraction des points\n",
    "\n",
    "Nous souhaitons traiter une zone en particulier. Je vous propose de saisir cette zone via l'outil **Draw a polygon** un polygone de la zone à extraire."
   ]
  },
  {
   "cell_type": "code",
   "execution_count": 6,
   "id": "f2fbb60d",
   "metadata": {
    "scrolled": true
   },
   "outputs": [
    {
     "data": {
      "application/vnd.jupyter.widget-view+json": {
       "model_id": "d152d4845a7445dd9cb857eb27bf38d6",
       "version_major": 2,
       "version_minor": 0
      },
      "text/plain": [
       "Map(center=[46.45966150948135, 6.9244668994876495], controls=(ZoomControl(options=['position', 'zoom_in_text',…"
      ]
     },
     "metadata": {},
     "output_type": "display_data"
    }
   ],
   "source": [
    "from pyproj import Transformer\n",
    "m = ipyleaflet.Map(center=(wsg84_bbox_poly.centroid.y, wsg84_bbox_poly.centroid.x), zoom=16)\n",
    "wlayer = WKTLayer( wkt_string=wsg84_bbox_poly.wkt,)\n",
    "m.add_layer(wlayer)\n",
    "dc = ipyleaflet.DrawControl()\n",
    "m.add_control(dc)\n",
    "m"
   ]
  },
  {
   "cell_type": "markdown",
   "id": "cf80da1f",
   "metadata": {},
   "source": [
    "Une fois le polygone tracé avec l'outil polygone, exécuter la cellule suivante."
   ]
  },
  {
   "cell_type": "code",
   "execution_count": 7,
   "id": "8b0cc8a9",
   "metadata": {},
   "outputs": [
    {
     "name": "stdout",
     "output_type": "stream",
     "text": [
      "POLYGON ((2560650.936573847 1145517.862811907, 2560602.787566139 1145462.2608327596, 2560655.241715203 1145412.6700583647, 2560719.8745671995 1145463.1621881444, 2560650.936573847 1145517.862811907))\n"
     ]
    },
    {
     "data": {
      "image/svg+xml": [
       "<svg xmlns=\"http://www.w3.org/2000/svg\" xmlns:xlink=\"http://www.w3.org/1999/xlink\" width=\"126.45396114559844\" height=\"114.55971362721175\" viewBox=\"2560598.1040860964 1145407.9865783222 126.45396114559844 114.55971362721175\" preserveAspectRatio=\"xMinYMin meet\"><g transform=\"matrix(1,0,0,-1,0,2290930.5328702717)\"><path fill-rule=\"evenodd\" fill=\"#66cc99\" stroke=\"#555555\" stroke-width=\"2.0\" opacity=\"0.6\" d=\"M 2560650.936573847,1145517.862811907 L 2560602.787566139,1145462.2608327596 L 2560655.241715203,1145412.6700583647 L 2560719.8745671995,1145463.1621881444 L 2560650.936573847,1145517.862811907 z\" /></g></svg>"
      ],
      "text/plain": [
       "<shapely.geometry.polygon.Polygon at 0x1af70180760>"
      ]
     },
     "metadata": {},
     "output_type": "display_data"
    }
   ],
   "source": [
    "from pyproj import transformer\n",
    "import shapely\n",
    "transformer = Transformer.from_crs(wsg84, ch1903plus)\n",
    "coords_draw = [transformer.transform(y,x) for (x,y) in dc.last_draw['geometry']['coordinates'][0]]\n",
    "polygon_draw = shapely.geometry.Polygon(coords_draw)\n",
    "print(polygon_draw.wkt)\n",
    "IPython.display.display(polygon_draw)"
   ]
  },
  {
   "cell_type": "markdown",
   "id": "51b2ee8c",
   "metadata": {},
   "source": [
    "Ci-dessus, le polygone que nous avons dessiné."
   ]
  },
  {
   "cell_type": "code",
   "execution_count": 12,
   "id": "5d25f752",
   "metadata": {},
   "outputs": [
    {
     "name": "stdout",
     "output_type": "stream",
     "text": [
      "(2560621.025225645, 1145432.3031548033, 2560698.5917767044, 1145507.8396228375)\n"
     ]
    }
   ],
   "source": [
    "print(polygon_draw.bounds)"
   ]
  },
  {
   "cell_type": "markdown",
   "id": "00f91740",
   "metadata": {},
   "source": [
    "Via PDAL, nous allons **filtrer** les points du nuage d'origine en fonction du poylgone que nous venons de déterminer."
   ]
  },
  {
   "cell_type": "code",
   "execution_count": 9,
   "id": "0f12dc6e",
   "metadata": {},
   "outputs": [
    {
     "name": "stdout",
     "output_type": "stream",
     "text": [
      "CPU times: total: 7.14 s\n",
      "Wall time: 7.26 s\n",
      "Pipeline selected 109955 points (17.8 pts/m2)\n"
     ]
    }
   ],
   "source": [
    "import pdal\n",
    "polygon_draw_bounds = polygon_draw.bounds\n",
    "cropper = {\n",
    "    \"pipeline\": [str(datasource/file),\n",
    "        {   \"type\":\"filters.crop\",\n",
    "            'bounds':str(([polygon_draw_bounds[0], polygon_draw_bounds[2]],[polygon_draw_bounds[1], polygon_draw_bounds[3]]))},\n",
    "        {   \"type\":\"filters.crop\",\n",
    "            'polygon':polygon_draw.wkt\n",
    "        },\n",
    "        {   \"type\":\"writers.las\",\n",
    "            \"filename\": str(output)+\"\\\\\"+\"cloud_crop.laz\"\n",
    "        },\n",
    "    ]}\n",
    "pipeline = pdal.Pipeline(json.dumps(cropper))\n",
    "%time n_points = pipeline.execute()\n",
    "\n",
    "print('Pipeline selected {} points ({:.1f} pts/m2)'.format(n_points, n_points/polygon_draw.area))"
   ]
  },
  {
   "cell_type": "markdown",
   "id": "323bbef2",
   "metadata": {},
   "source": [
    "# Visualisation\n",
    "\n",
    "Nous allons visualiser les points extraits via **Ipyvolume**."
   ]
  },
  {
   "cell_type": "code",
   "execution_count": 13,
   "id": "aab28eed",
   "metadata": {},
   "outputs": [],
   "source": [
    "import ipyvolume.pylab as p3\n",
    "import pandas as pd\n",
    "# Load Pipeline output in python objects\n",
    "arr = pipeline.arrays[0]\n",
    "description = arr.dtype.descr\n",
    "cols = [col for col, __ in description]\n",
    "df = pd.DataFrame({col: arr[col] for col in cols})\n",
    "df['X_0'] = df['X']\n",
    "df['Y_0'] = df['Y']\n",
    "df['Z_0'] = df['Z']\n",
    "df['X'] = df['X'] - df['X_0'].min()\n",
    "df['Y'] = df['Y'] - df['Y_0'].min()\n",
    "df['Z'] = df['Z'] - df['Z_0'].min()"
   ]
  },
  {
   "cell_type": "code",
   "execution_count": 23,
   "id": "cdf2a834",
   "metadata": {},
   "outputs": [
    {
     "data": {
      "application/vnd.jupyter.widget-view+json": {
       "model_id": "82b5f9e544904a99b4876c400ea74461",
       "version_major": 2,
       "version_minor": 0
      },
      "text/plain": [
       "VBox(children=(Figure(camera=PerspectiveCamera(fov=46.0, position=(0.0, 0.0, 2.0), projectionMatrix=(1.0, 0.0,…"
      ]
     },
     "metadata": {},
     "output_type": "display_data"
    }
   ],
   "source": [
    "fig = p3.figure(width=950)\n",
    "fig.xlabel='Y'\n",
    "fig.ylabel='Z'\n",
    "fig.zlabel='X'\n",
    "all_points = p3.scatter(df['Y'], df['Z'], df['X'], color='red', size=.1,marker='box')\n",
    "p3.squarelim()\n",
    "p3.show()"
   ]
  },
  {
   "cell_type": "code",
   "execution_count": 24,
   "id": "e17e6cf1",
   "metadata": {},
   "outputs": [],
   "source": [
    "import scipy\n",
    "# Color ground in grey\n",
    "df['ground'] = df['Classification']==2\n",
    "ground = p3.scatter(df.loc[df['ground'],'Y'].values, df.loc[df['ground'],'Z'].values, df.loc[df['ground'],'X'].values, color='red', size=.9)\n",
    "non_ground = p3.scatter(df.loc[~df['ground'],'Y'].values, df.loc[~df['ground'],'Z'].values, df.loc[~df['ground'],'X'].values, color='red', size=.1)\n",
    "fig.scatters.append(ground)\n",
    "fig.scatters.append(non_ground)\n",
    "all_points.visible = False\n",
    "ground.color='lightgrey'\n",
    "# Show ground as surface\n",
    "ground_delaunay = scipy.spatial.Delaunay(df.loc[df['ground'],['X','Y']])\n",
    "ground_surf = p3.plot_trisurf(df.loc[df['ground'],'Y'], df.loc[df['ground'],'Z'], df.loc[df['ground'],'X'], ground_delaunay.simplices, color='lightgrey')\n",
    "fig.meshes.append(ground_surf)\n",
    "ground.visible=False\n",
    "\n"
   ]
  },
  {
   "cell_type": "code",
   "execution_count": 18,
   "id": "42ce921a",
   "metadata": {},
   "outputs": [],
   "source": [
    "non_ground.visible=False\n",
    "all_points.visible =False\n",
    "ground.visible=False\n"
   ]
  },
  {
   "cell_type": "markdown",
   "id": "69e8dcfd",
   "metadata": {},
   "source": [
    "Travaille du rendu pour que celà soit plus compréhensible. On crée une surface avec les points \"groud\" puis ces points sont supprimés."
   ]
  },
  {
   "cell_type": "code",
   "execution_count": null,
   "id": "5cc901c3",
   "metadata": {},
   "outputs": [],
   "source": []
  }
 ],
 "metadata": {
  "kernelspec": {
   "display_name": "Python 3 (ipykernel)",
   "language": "python",
   "name": "python3"
  },
  "language_info": {
   "codemirror_mode": {
    "name": "ipython",
    "version": 3
   },
   "file_extension": ".py",
   "mimetype": "text/x-python",
   "name": "python",
   "nbconvert_exporter": "python",
   "pygments_lexer": "ipython3",
   "version": "3.9.12"
  }
 },
 "nbformat": 4,
 "nbformat_minor": 5
}
