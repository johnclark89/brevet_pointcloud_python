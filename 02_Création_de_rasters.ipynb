{
 "cells": [
  {
   "cell_type": "markdown",
   "id": "9c38081c",
   "metadata": {},
   "source": [
    "# Création de rasters\n",
    "\n",
    "**writers.gdal** de PDAL permet de créer un fichier raster à partir d'un nuage de points.\n",
    "Pour rappel, un raster est une grille composée de cellules organisées en lignes et en colonnes (comme un tableau ou une image).\n",
    "\n",
    "https://pdal.io/en/latest/stages/writers.gdal.html\n",
    "\n",
    "## Raster élévation\n",
    "\n",
    "Le raster est souvent utilisé pour transcire l'altitude sous la forme d'un DEM (digital elevation model - MNT modèle numérique de terrain en français) permettant ensuite de produire un ombrage ou des courbes de niveau."
   ]
  },
  {
   "cell_type": "code",
   "execution_count": null,
   "id": "2a40314a",
   "metadata": {},
   "outputs": [],
   "source": [
    "%%time\n",
    "import pathlib, json, pdal\n",
    "\n",
    "#chemin du fichier source\n",
    "datasource = pathlib.Path.cwd() /'data'/'input'\n",
    "output = pathlib.Path.cwd() /'data'/'output'/'raster'\n",
    "file = '2560_1145.las'\n",
    "\n",
    "#pipeline pdal\n",
    "elevation = {\n",
    " \"pipeline\":[\n",
    "     \n",
    "    #lecture du fichier source\n",
    "     {\n",
    "        \"type\" : \"readers.las\",\n",
    "        \"filename\" : str(datasource/file)\n",
    "    },\n",
    "     \n",
    "    #filtre pour ne garder que les points de la classe 2 ground\n",
    "    {\n",
    "        \"limits\" : \"classification[2:2]\",\n",
    "        \"type\" : \"filters.range\",\n",
    "    },\n",
    "     \n",
    "    #production d'un raster selon l'élévation\n",
    "    {\n",
    "        \"filename\":str(output)+\"\\\\\"+\"elevation.tif\",\n",
    "        \"gdaldriver\":\"GTiff\",\n",
    "        \"output_type\":\"mean\",\n",
    "        \"resolution\":\"1\",\n",
    "        \"type\": \"writers.gdal\"\n",
    "    }\n",
    "]   \n",
    "}\n",
    "\n",
    "pipeline = pdal.Pipeline(json.dumps(elevation))\n",
    "pipeline.execute()"
   ]
  },
  {
   "cell_type": "markdown",
   "id": "443bb83c",
   "metadata": {},
   "source": [
    "le résultat produit :\n",
    "\n",
    "![elevation](data/img/pdal_writergdal_elevation.png)\n",
    "\n",
    "Après un traitement sur Qgis pour remplir les cellules vides et produire un ombrage.\n",
    "\n",
    "![ombrage](data/img/pdal_writergdal_elevation_ombrage.png)"
   ]
  },
  {
   "cell_type": "markdown",
   "id": "ef257881",
   "metadata": {},
   "source": [
    "## Raster intensité\n",
    "\n",
    "Nous pouvons choisir quelle dimension du nuage nous voulons transcrire dans le raster avec l'attribut **dimension**.\n",
    "L'idée est d'utiliser l'intensité des points (au lieu de z, l'élévation par défaut) pour produire une image visuelle. L'intensité varie selon la matière rencontrée par le laser et permet ainsi de produire une image en noir et blanc."
   ]
  },
  {
   "cell_type": "code",
   "execution_count": null,
   "id": "32469f38",
   "metadata": {},
   "outputs": [],
   "source": [
    "#pipeline pdal\n",
    "intensity = {\n",
    " \"pipeline\":[\n",
    "     \n",
    "    #lecture du fichier source\n",
    "     {\n",
    "        \"type\" : \"readers.las\",\n",
    "        \"filename\" : str(datasource/file)\n",
    "    },\n",
    "     \n",
    "    #production d'un raster selon l'intensité\n",
    "    {\n",
    "        \"filename\":str(output)+\"\\\\\"+\"intensity.tif\",\n",
    "        \"gdaldriver\":\"GTiff\",\n",
    "        \"dimension\":\"intensity\",\n",
    "        \"output_type\":\"mean\",\n",
    "        \"resolution\":\"1\",\n",
    "        \"type\": \"writers.gdal\"\n",
    "    }\n",
    "]   \n",
    "}\n",
    "\n",
    "pipeline = pdal.Pipeline(json.dumps(intensity))\n",
    "pipeline.execute()"
   ]
  },
  {
   "cell_type": "markdown",
   "id": "c0b253b8",
   "metadata": {},
   "source": [
    "le résultat produit :\n",
    "\n",
    "![intensity](data/img/pdal_writergdal_intensity.png)\n",
    "\n",
    "Nous distinguons la forêt, les prés, les routes, les habitations etc. "
   ]
  }
 ],
 "metadata": {
  "kernelspec": {
   "display_name": "Python 3 (ipykernel)",
   "language": "python",
   "name": "python3"
  },
  "language_info": {
   "codemirror_mode": {
    "name": "ipython",
    "version": 3
   },
   "file_extension": ".py",
   "mimetype": "text/x-python",
   "name": "python",
   "nbconvert_exporter": "python",
   "pygments_lexer": "ipython3",
   "version": "3.9.12"
  }
 },
 "nbformat": 4,
 "nbformat_minor": 5
}
