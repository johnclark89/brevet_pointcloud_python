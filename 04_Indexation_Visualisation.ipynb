{
 "cells": [
  {
   "cell_type": "markdown",
   "id": "6e6f0e56",
   "metadata": {},
   "source": [
    "# Indexation de nuages de points (Entwine)\n",
    "\n",
    "**Entwine** est une librairie open source (licence LGPLv2) en C/C++ qui permet l'indexation des nuages de points.\n",
    "\n",
    "Elle peut indexer plusieurs milliards de points sans aucune perte.\n",
    "\n",
    "Ce n'est pas une librairie python mais elle accepte en entrée les mêmes formats que PDAL.\n",
    "\n",
    "https://github.com/connormanning/entwine#readme\n",
    "https://entwine.io/\n",
    "\n",
    "## Indexation\n",
    "\n",
    "Nous allons indexer tous les fichiers se trouvant dans le répertoire input."
   ]
  },
  {
   "cell_type": "code",
   "execution_count": 1,
   "id": "e980df83",
   "metadata": {},
   "outputs": [
    {
     "name": "stdout",
     "output_type": "stream",
     "text": [
      "CPU times: total: 0 ns\n",
      "Wall time: 4min 15s\n"
     ]
    }
   ],
   "source": [
    "%%time\n",
    "import subprocess\n",
    "import pathlib\n",
    "from pathlib import Path\n",
    "datasource = pathlib.Path.cwd() /'data'/'input'\n",
    "output = pathlib.Path.cwd() /'delete'\n",
    "\n",
    "cmd = \"entwine build -i \"+str(datasource)+\" -o \"+str(output)+\" -r EPSG:2056 EPSG:2056\"\n",
    "#print(cmd)\n",
    "p = subprocess.call(cmd,shell=True)  "
   ]
  },
  {
   "cell_type": "markdown",
   "id": "0497016a",
   "metadata": {},
   "source": [
    "Nous avons à présent indexé en quelques minutes plus de **111 millions de points**.\n",
    "\n",
    "Nous allons pouvoir visualiser ce nuage avec **Potree**. Commençons par démarrer un server http."
   ]
  },
  {
   "cell_type": "code",
   "execution_count": 2,
   "id": "46449f04",
   "metadata": {},
   "outputs": [
    {
     "name": "stdout",
     "output_type": "stream",
     "text": [
      "http-server entwine -p 8080 --cors\n"
     ]
    }
   ],
   "source": [
    "import subprocess\n",
    "cmd = \"http-server entwine -p 8080 --cors\"\n",
    "print(cmd)\n",
    "p = subprocess.Popen(cmd,shell=True) "
   ]
  },
  {
   "cell_type": "markdown",
   "id": "32f300cb",
   "metadata": {},
   "source": [
    "Une fois le serveur lancé, nous pouvons afficher le nuage via le visualisateur en ligne."
   ]
  },
  {
   "cell_type": "code",
   "execution_count": 3,
   "id": "5bded88a",
   "metadata": {
    "scrolled": false
   },
   "outputs": [
    {
     "data": {
      "text/html": [
       "\n",
       "        <iframe\n",
       "            width=\"900\"\n",
       "            height=\"800\"\n",
       "            src=\"https://potree.entwine.io/data/view.html?r=%22http://localhost:8080%22\"\n",
       "            frameborder=\"0\"\n",
       "            allowfullscreen\n",
       "            \n",
       "        ></iframe>\n",
       "        "
      ],
      "text/plain": [
       "<IPython.lib.display.IFrame at 0x1755e68dc70>"
      ]
     },
     "execution_count": 3,
     "metadata": {},
     "output_type": "execute_result"
    }
   ],
   "source": [
    "from IPython.display import IFrame\n",
    "\n",
    "url = r'https://potree.entwine.io/data/view.html?r=%22http://localhost:8080%22'\n",
    "IFrame(url, width=900, height=800)"
   ]
  },
  {
   "cell_type": "markdown",
   "id": "4bb4556a",
   "metadata": {},
   "source": [
    "# seconde section"
   ]
  },
  {
   "cell_type": "code",
   "execution_count": 4,
   "id": "e5cf71a1",
   "metadata": {},
   "outputs": [
    {
     "ename": "NameError",
     "evalue": "name 'kill' is not defined",
     "output_type": "error",
     "traceback": [
      "\u001b[1;31m---------------------------------------------------------------------------\u001b[0m",
      "\u001b[1;31mNameError\u001b[0m                                 Traceback (most recent call last)",
      "Input \u001b[1;32mIn [4]\u001b[0m, in \u001b[0;36m<cell line: 1>\u001b[1;34m()\u001b[0m\n\u001b[1;32m----> 1\u001b[0m \u001b[43mkill\u001b[49m \u001b[38;5;241m%\u001b[39m\u001b[38;5;241m1\u001b[39m\n",
      "\u001b[1;31mNameError\u001b[0m: name 'kill' is not defined"
     ]
    }
   ],
   "source": [
    "kill %1"
   ]
  },
  {
   "cell_type": "code",
   "execution_count": null,
   "id": "cd260bb0",
   "metadata": {},
   "outputs": [],
   "source": []
  }
 ],
 "metadata": {
  "kernelspec": {
   "display_name": "Python 3 (ipykernel)",
   "language": "python",
   "name": "python3"
  },
  "language_info": {
   "codemirror_mode": {
    "name": "ipython",
    "version": 3
   },
   "file_extension": ".py",
   "mimetype": "text/x-python",
   "name": "python",
   "nbconvert_exporter": "python",
   "pygments_lexer": "ipython3",
   "version": "3.9.12"
  }
 },
 "nbformat": 4,
 "nbformat_minor": 5
}
