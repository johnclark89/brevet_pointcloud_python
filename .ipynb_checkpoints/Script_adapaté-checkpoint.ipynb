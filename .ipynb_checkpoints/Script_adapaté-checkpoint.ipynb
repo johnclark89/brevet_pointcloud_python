{
 "cells": [
  {
   "cell_type": "code",
   "execution_count": null,
   "id": "ca7d5917",
   "metadata": {},
   "outputs": [],
   "source": [
    "pip install ipyleaflet"
   ]
  },
  {
   "cell_type": "code",
   "execution_count": 29,
   "id": "a3829275",
   "metadata": {},
   "outputs": [
    {
     "name": "stdout",
     "output_type": "stream",
     "text": [
      "Collecting ipyvolume\n",
      "  Using cached ipyvolume-0.5.2-py2.py3-none-any.whl (2.9 MB)\n",
      "Requirement already satisfied: traitlets in c:\\users\\prazm\\anaconda3\\envs\\pointcloud\\lib\\site-packages (from ipyvolume) (5.1.1)\n",
      "Requirement already satisfied: traittypes in c:\\users\\prazm\\anaconda3\\envs\\pointcloud\\lib\\site-packages (from ipyvolume) (0.2.1)\n",
      "Requirement already satisfied: ipywidgets>=7.5 in c:\\users\\prazm\\anaconda3\\envs\\pointcloud\\lib\\site-packages (from ipyvolume) (7.7.1)\n",
      "Requirement already satisfied: Pillow in c:\\users\\prazm\\anaconda3\\envs\\pointcloud\\lib\\site-packages (from ipyvolume) (9.2.0)\n",
      "Requirement already satisfied: numpy in c:\\users\\prazm\\anaconda3\\envs\\pointcloud\\lib\\site-packages (from ipyvolume) (1.23.1)\n",
      "Collecting ipywebrtc\n",
      "  Using cached ipywebrtc-0.6.0-py2.py3-none-any.whl (260 kB)\n",
      "Requirement already satisfied: requests in c:\\users\\prazm\\anaconda3\\envs\\pointcloud\\lib\\site-packages (from ipyvolume) (2.28.1)\n",
      "Collecting pythreejs>=1.0.0\n",
      "  Using cached pythreejs-2.3.0-py2.py3-none-any.whl (3.4 MB)\n",
      "Requirement already satisfied: ipython>=4.0.0 in c:\\users\\prazm\\anaconda3\\envs\\pointcloud\\lib\\site-packages (from ipywidgets>=7.5->ipyvolume) (8.4.0)\n",
      "Requirement already satisfied: jupyterlab-widgets>=1.0.0 in c:\\users\\prazm\\anaconda3\\envs\\pointcloud\\lib\\site-packages (from ipywidgets>=7.5->ipyvolume) (1.1.1)\n",
      "Requirement already satisfied: ipykernel>=4.5.1 in c:\\users\\prazm\\anaconda3\\envs\\pointcloud\\lib\\site-packages (from ipywidgets>=7.5->ipyvolume) (6.9.1)\n",
      "Requirement already satisfied: widgetsnbextension~=3.6.0 in c:\\users\\prazm\\anaconda3\\envs\\pointcloud\\lib\\site-packages (from ipywidgets>=7.5->ipyvolume) (3.6.1)\n",
      "Requirement already satisfied: ipython-genutils~=0.2.0 in c:\\users\\prazm\\anaconda3\\envs\\pointcloud\\lib\\site-packages (from ipywidgets>=7.5->ipyvolume) (0.2.0)\n",
      "Collecting ipydatawidgets>=1.1.1\n",
      "  Using cached ipydatawidgets-4.3.1.post1-py2.py3-none-any.whl (271 kB)\n",
      "Requirement already satisfied: certifi>=2017.4.17 in c:\\users\\prazm\\anaconda3\\envs\\pointcloud\\lib\\site-packages (from requests->ipyvolume) (2022.6.15)\n",
      "Requirement already satisfied: charset-normalizer<3,>=2 in c:\\users\\prazm\\anaconda3\\envs\\pointcloud\\lib\\site-packages (from requests->ipyvolume) (2.1.0)\n",
      "Requirement already satisfied: idna<4,>=2.5 in c:\\users\\prazm\\anaconda3\\envs\\pointcloud\\lib\\site-packages (from requests->ipyvolume) (3.3)\n",
      "Requirement already satisfied: urllib3<1.27,>=1.21.1 in c:\\users\\prazm\\anaconda3\\envs\\pointcloud\\lib\\site-packages (from requests->ipyvolume) (1.26.11)\n",
      "Requirement already satisfied: six in c:\\users\\prazm\\anaconda3\\envs\\pointcloud\\lib\\site-packages (from ipydatawidgets>=1.1.1->pythreejs>=1.0.0->ipyvolume) (1.16.0)\n",
      "Requirement already satisfied: tornado<7.0,>=4.2 in c:\\users\\prazm\\anaconda3\\envs\\pointcloud\\lib\\site-packages (from ipykernel>=4.5.1->ipywidgets>=7.5->ipyvolume) (6.1)\n",
      "Requirement already satisfied: jupyter-client<8.0 in c:\\users\\prazm\\anaconda3\\envs\\pointcloud\\lib\\site-packages (from ipykernel>=4.5.1->ipywidgets>=7.5->ipyvolume) (7.2.2)\n",
      "Requirement already satisfied: nest-asyncio in c:\\users\\prazm\\anaconda3\\envs\\pointcloud\\lib\\site-packages (from ipykernel>=4.5.1->ipywidgets>=7.5->ipyvolume) (1.5.5)\n",
      "Requirement already satisfied: debugpy<2.0,>=1.0.0 in c:\\users\\prazm\\anaconda3\\envs\\pointcloud\\lib\\site-packages (from ipykernel>=4.5.1->ipywidgets>=7.5->ipyvolume) (1.5.1)\n",
      "Requirement already satisfied: matplotlib-inline<0.2.0,>=0.1.0 in c:\\users\\prazm\\anaconda3\\envs\\pointcloud\\lib\\site-packages (from ipykernel>=4.5.1->ipywidgets>=7.5->ipyvolume) (0.1.2)\n",
      "Requirement already satisfied: colorama in c:\\users\\prazm\\anaconda3\\envs\\pointcloud\\lib\\site-packages (from ipython>=4.0.0->ipywidgets>=7.5->ipyvolume) (0.4.5)\n",
      "Requirement already satisfied: decorator in c:\\users\\prazm\\anaconda3\\envs\\pointcloud\\lib\\site-packages (from ipython>=4.0.0->ipywidgets>=7.5->ipyvolume) (5.1.1)\n",
      "Requirement already satisfied: setuptools>=18.5 in c:\\users\\prazm\\anaconda3\\envs\\pointcloud\\lib\\site-packages (from ipython>=4.0.0->ipywidgets>=7.5->ipyvolume) (61.2.0)\n",
      "Requirement already satisfied: backcall in c:\\users\\prazm\\anaconda3\\envs\\pointcloud\\lib\\site-packages (from ipython>=4.0.0->ipywidgets>=7.5->ipyvolume) (0.2.0)\n",
      "Requirement already satisfied: jedi>=0.16 in c:\\users\\prazm\\anaconda3\\envs\\pointcloud\\lib\\site-packages (from ipython>=4.0.0->ipywidgets>=7.5->ipyvolume) (0.18.1)\n",
      "Requirement already satisfied: prompt-toolkit!=3.0.0,!=3.0.1,<3.1.0,>=2.0.0 in c:\\users\\prazm\\anaconda3\\envs\\pointcloud\\lib\\site-packages (from ipython>=4.0.0->ipywidgets>=7.5->ipyvolume) (3.0.20)\n",
      "Requirement already satisfied: stack-data in c:\\users\\prazm\\anaconda3\\envs\\pointcloud\\lib\\site-packages (from ipython>=4.0.0->ipywidgets>=7.5->ipyvolume) (0.2.0)\n",
      "Requirement already satisfied: pickleshare in c:\\users\\prazm\\anaconda3\\envs\\pointcloud\\lib\\site-packages (from ipython>=4.0.0->ipywidgets>=7.5->ipyvolume) (0.7.5)\n",
      "Requirement already satisfied: pygments>=2.4.0 in c:\\users\\prazm\\anaconda3\\envs\\pointcloud\\lib\\site-packages (from ipython>=4.0.0->ipywidgets>=7.5->ipyvolume) (2.11.2)\n",
      "Requirement already satisfied: notebook>=4.4.1 in c:\\users\\prazm\\anaconda3\\envs\\pointcloud\\lib\\site-packages (from widgetsnbextension~=3.6.0->ipywidgets>=7.5->ipyvolume) (6.4.12)\n",
      "Requirement already satisfied: parso<0.9.0,>=0.8.0 in c:\\users\\prazm\\anaconda3\\envs\\pointcloud\\lib\\site-packages (from jedi>=0.16->ipython>=4.0.0->ipywidgets>=7.5->ipyvolume) (0.8.3)\n",
      "Requirement already satisfied: pyzmq>=22.3 in c:\\users\\prazm\\anaconda3\\envs\\pointcloud\\lib\\site-packages (from jupyter-client<8.0->ipykernel>=4.5.1->ipywidgets>=7.5->ipyvolume) (23.2.0)\n",
      "Requirement already satisfied: jupyter-core>=4.9.2 in c:\\users\\prazm\\anaconda3\\envs\\pointcloud\\lib\\site-packages (from jupyter-client<8.0->ipykernel>=4.5.1->ipywidgets>=7.5->ipyvolume) (4.10.0)\n",
      "Requirement already satisfied: python-dateutil>=2.8.2 in c:\\users\\prazm\\anaconda3\\envs\\pointcloud\\lib\\site-packages (from jupyter-client<8.0->ipykernel>=4.5.1->ipywidgets>=7.5->ipyvolume) (2.8.2)\n",
      "Requirement already satisfied: entrypoints in c:\\users\\prazm\\anaconda3\\envs\\pointcloud\\lib\\site-packages (from jupyter-client<8.0->ipykernel>=4.5.1->ipywidgets>=7.5->ipyvolume) (0.4)\n",
      "Requirement already satisfied: nbconvert>=5 in c:\\users\\prazm\\anaconda3\\envs\\pointcloud\\lib\\site-packages (from notebook>=4.4.1->widgetsnbextension~=3.6.0->ipywidgets>=7.5->ipyvolume) (6.4.4)\n",
      "Requirement already satisfied: nbformat in c:\\users\\prazm\\anaconda3\\envs\\pointcloud\\lib\\site-packages (from notebook>=4.4.1->widgetsnbextension~=3.6.0->ipywidgets>=7.5->ipyvolume) (5.3.0)\n",
      "Requirement already satisfied: Send2Trash>=1.8.0 in c:\\users\\prazm\\anaconda3\\envs\\pointcloud\\lib\\site-packages (from notebook>=4.4.1->widgetsnbextension~=3.6.0->ipywidgets>=7.5->ipyvolume) (1.8.0)\n",
      "Requirement already satisfied: argon2-cffi in c:\\users\\prazm\\anaconda3\\envs\\pointcloud\\lib\\site-packages (from notebook>=4.4.1->widgetsnbextension~=3.6.0->ipywidgets>=7.5->ipyvolume) (21.3.0)\n",
      "Requirement already satisfied: terminado>=0.8.3 in c:\\users\\prazm\\anaconda3\\envs\\pointcloud\\lib\\site-packages (from notebook>=4.4.1->widgetsnbextension~=3.6.0->ipywidgets>=7.5->ipyvolume) (0.13.1)\n",
      "Requirement already satisfied: prometheus-client in c:\\users\\prazm\\anaconda3\\envs\\pointcloud\\lib\\site-packages (from notebook>=4.4.1->widgetsnbextension~=3.6.0->ipywidgets>=7.5->ipyvolume) (0.13.1)\n",
      "Requirement already satisfied: jinja2 in c:\\users\\prazm\\anaconda3\\envs\\pointcloud\\lib\\site-packages (from notebook>=4.4.1->widgetsnbextension~=3.6.0->ipywidgets>=7.5->ipyvolume) (3.0.3)\n",
      "Requirement already satisfied: wcwidth in c:\\users\\prazm\\anaconda3\\envs\\pointcloud\\lib\\site-packages (from prompt-toolkit!=3.0.0,!=3.0.1,<3.1.0,>=2.0.0->ipython>=4.0.0->ipywidgets>=7.5->ipyvolume) (0.2.5)\n",
      "Requirement already satisfied: asttokens in c:\\users\\prazm\\anaconda3\\envs\\pointcloud\\lib\\site-packages (from stack-data->ipython>=4.0.0->ipywidgets>=7.5->ipyvolume) (2.0.5)\n",
      "Requirement already satisfied: pure-eval in c:\\users\\prazm\\anaconda3\\envs\\pointcloud\\lib\\site-packages (from stack-data->ipython>=4.0.0->ipywidgets>=7.5->ipyvolume) (0.2.2)\n",
      "Requirement already satisfied: executing in c:\\users\\prazm\\anaconda3\\envs\\pointcloud\\lib\\site-packages (from stack-data->ipython>=4.0.0->ipywidgets>=7.5->ipyvolume) (0.8.3)\n",
      "Requirement already satisfied: pywin32>=1.0 in c:\\users\\prazm\\anaconda3\\envs\\pointcloud\\lib\\site-packages (from jupyter-core>=4.9.2->jupyter-client<8.0->ipykernel>=4.5.1->ipywidgets>=7.5->ipyvolume) (302)\n",
      "Requirement already satisfied: nbclient<0.6.0,>=0.5.0 in c:\\users\\prazm\\anaconda3\\envs\\pointcloud\\lib\\site-packages (from nbconvert>=5->notebook>=4.4.1->widgetsnbextension~=3.6.0->ipywidgets>=7.5->ipyvolume) (0.5.13)\n",
      "Requirement already satisfied: defusedxml in c:\\users\\prazm\\anaconda3\\envs\\pointcloud\\lib\\site-packages (from nbconvert>=5->notebook>=4.4.1->widgetsnbextension~=3.6.0->ipywidgets>=7.5->ipyvolume) (0.7.1)\n",
      "Requirement already satisfied: beautifulsoup4 in c:\\users\\prazm\\anaconda3\\envs\\pointcloud\\lib\\site-packages (from nbconvert>=5->notebook>=4.4.1->widgetsnbextension~=3.6.0->ipywidgets>=7.5->ipyvolume) (4.11.1)\n",
      "Requirement already satisfied: jupyterlab-pygments in c:\\users\\prazm\\anaconda3\\envs\\pointcloud\\lib\\site-packages (from nbconvert>=5->notebook>=4.4.1->widgetsnbextension~=3.6.0->ipywidgets>=7.5->ipyvolume) (0.1.2)\n",
      "Requirement already satisfied: pandocfilters>=1.4.1 in c:\\users\\prazm\\anaconda3\\envs\\pointcloud\\lib\\site-packages (from nbconvert>=5->notebook>=4.4.1->widgetsnbextension~=3.6.0->ipywidgets>=7.5->ipyvolume) (1.5.0)\n",
      "Requirement already satisfied: bleach in c:\\users\\prazm\\anaconda3\\envs\\pointcloud\\lib\\site-packages (from nbconvert>=5->notebook>=4.4.1->widgetsnbextension~=3.6.0->ipywidgets>=7.5->ipyvolume) (4.1.0)\n",
      "Requirement already satisfied: testpath in c:\\users\\prazm\\anaconda3\\envs\\pointcloud\\lib\\site-packages (from nbconvert>=5->notebook>=4.4.1->widgetsnbextension~=3.6.0->ipywidgets>=7.5->ipyvolume) (0.6.0)\n",
      "Requirement already satisfied: mistune<2,>=0.8.1 in c:\\users\\prazm\\anaconda3\\envs\\pointcloud\\lib\\site-packages (from nbconvert>=5->notebook>=4.4.1->widgetsnbextension~=3.6.0->ipywidgets>=7.5->ipyvolume) (0.8.4)\n",
      "Requirement already satisfied: MarkupSafe>=2.0 in c:\\users\\prazm\\anaconda3\\envs\\pointcloud\\lib\\site-packages (from jinja2->notebook>=4.4.1->widgetsnbextension~=3.6.0->ipywidgets>=7.5->ipyvolume) (2.1.1)\n",
      "Requirement already satisfied: jsonschema>=2.6 in c:\\users\\prazm\\anaconda3\\envs\\pointcloud\\lib\\site-packages (from nbformat->notebook>=4.4.1->widgetsnbextension~=3.6.0->ipywidgets>=7.5->ipyvolume) (4.4.0)\n",
      "Requirement already satisfied: fastjsonschema in c:\\users\\prazm\\anaconda3\\envs\\pointcloud\\lib\\site-packages (from nbformat->notebook>=4.4.1->widgetsnbextension~=3.6.0->ipywidgets>=7.5->ipyvolume) (2.15.1)\n",
      "Requirement already satisfied: pywinpty>=1.1.0 in c:\\users\\prazm\\anaconda3\\envs\\pointcloud\\lib\\site-packages (from terminado>=0.8.3->notebook>=4.4.1->widgetsnbextension~=3.6.0->ipywidgets>=7.5->ipyvolume) (2.0.2)\n",
      "Requirement already satisfied: argon2-cffi-bindings in c:\\users\\prazm\\anaconda3\\envs\\pointcloud\\lib\\site-packages (from argon2-cffi->notebook>=4.4.1->widgetsnbextension~=3.6.0->ipywidgets>=7.5->ipyvolume) (21.2.0)\n",
      "Requirement already satisfied: attrs>=17.4.0 in c:\\users\\prazm\\anaconda3\\envs\\pointcloud\\lib\\site-packages (from jsonschema>=2.6->nbformat->notebook>=4.4.1->widgetsnbextension~=3.6.0->ipywidgets>=7.5->ipyvolume) (21.4.0)\n",
      "Requirement already satisfied: pyrsistent!=0.17.0,!=0.17.1,!=0.17.2,>=0.14.0 in c:\\users\\prazm\\anaconda3\\envs\\pointcloud\\lib\\site-packages (from jsonschema>=2.6->nbformat->notebook>=4.4.1->widgetsnbextension~=3.6.0->ipywidgets>=7.5->ipyvolume) (0.18.0)\n",
      "Requirement already satisfied: cffi>=1.0.1 in c:\\users\\prazm\\anaconda3\\envs\\pointcloud\\lib\\site-packages (from argon2-cffi-bindings->argon2-cffi->notebook>=4.4.1->widgetsnbextension~=3.6.0->ipywidgets>=7.5->ipyvolume) (1.15.0)\n",
      "Requirement already satisfied: soupsieve>1.2 in c:\\users\\prazm\\anaconda3\\envs\\pointcloud\\lib\\site-packages (from beautifulsoup4->nbconvert>=5->notebook>=4.4.1->widgetsnbextension~=3.6.0->ipywidgets>=7.5->ipyvolume) (2.3.1)\n",
      "Requirement already satisfied: packaging in c:\\users\\prazm\\anaconda3\\envs\\pointcloud\\lib\\site-packages (from bleach->nbconvert>=5->notebook>=4.4.1->widgetsnbextension~=3.6.0->ipywidgets>=7.5->ipyvolume) (21.3)\n",
      "Requirement already satisfied: webencodings in c:\\users\\prazm\\anaconda3\\envs\\pointcloud\\lib\\site-packages (from bleach->nbconvert>=5->notebook>=4.4.1->widgetsnbextension~=3.6.0->ipywidgets>=7.5->ipyvolume) (0.5.1)\n",
      "Requirement already satisfied: pycparser in c:\\users\\prazm\\anaconda3\\envs\\pointcloud\\lib\\site-packages (from cffi>=1.0.1->argon2-cffi-bindings->argon2-cffi->notebook>=4.4.1->widgetsnbextension~=3.6.0->ipywidgets>=7.5->ipyvolume) (2.21)\n",
      "Requirement already satisfied: pyparsing!=3.0.5,>=2.0.2 in c:\\users\\prazm\\anaconda3\\envs\\pointcloud\\lib\\site-packages (from packaging->bleach->nbconvert>=5->notebook>=4.4.1->widgetsnbextension~=3.6.0->ipywidgets>=7.5->ipyvolume) (3.0.4)\n",
      "Installing collected packages: ipywebrtc, ipydatawidgets, pythreejs, ipyvolume\n",
      "Successfully installed ipydatawidgets-4.3.1.post1 ipyvolume-0.5.2 ipywebrtc-0.6.0 pythreejs-2.3.0\n",
      "Note: you may need to restart the kernel to use updated packages.\n"
     ]
    }
   ],
   "source": [
    "pip install ipyvolume"
   ]
  },
  {
   "cell_type": "code",
   "execution_count": null,
   "id": "c87b63e0",
   "metadata": {},
   "outputs": [],
   "source": [
    "pip install matplotlib"
   ]
  },
  {
   "cell_type": "code",
   "execution_count": null,
   "id": "45133ae6",
   "metadata": {},
   "outputs": [],
   "source": [
    "pip install pandas"
   ]
  },
  {
   "cell_type": "code",
   "execution_count": null,
   "id": "557f747e",
   "metadata": {},
   "outputs": [],
   "source": [
    "pip install pyproj"
   ]
  },
  {
   "cell_type": "code",
   "execution_count": null,
   "id": "f456d28a",
   "metadata": {},
   "outputs": [],
   "source": [
    "pip install ipyvolume"
   ]
  },
  {
   "cell_type": "code",
   "execution_count": null,
   "id": "663d4f01",
   "metadata": {},
   "outputs": [],
   "source": [
    "pip install shapely"
   ]
  },
  {
   "cell_type": "code",
   "execution_count": null,
   "id": "8f2958ce",
   "metadata": {},
   "outputs": [],
   "source": [
    "pip install scipy"
   ]
  },
  {
   "cell_type": "code",
   "execution_count": null,
   "id": "ac2f6b6a",
   "metadata": {},
   "outputs": [],
   "source": [
    "#pip install pdal"
   ]
  },
  {
   "cell_type": "code",
   "execution_count": null,
   "id": "1d5f2ada",
   "metadata": {},
   "outputs": [],
   "source": [
    "pip install requests"
   ]
  },
  {
   "cell_type": "code",
   "execution_count": 1,
   "id": "3653ca51",
   "metadata": {},
   "outputs": [],
   "source": [
    "import pyproj\n",
    "import glob\n",
    "import io\n",
    "import ipyleaflet\n",
    "import IPython.display\n",
    "import ipyvolume.pylab as p3\n",
    "import json\n",
    "import matplotlib.cm\n",
    "import matplotlib.pyplot as plt\n",
    "import numpy as np\n",
    "import os\n",
    "import pandas as pd\n",
    "#import pdal\n",
    "import PIL\n",
    "import requests\n",
    "import shapely.geometry\n",
    "import scipy.spatial\n",
    "import sys\n",
    "import urllib.request\n",
    "import shapely"
   ]
  },
  {
   "cell_type": "code",
   "execution_count": 2,
   "id": "c94a8bb6",
   "metadata": {
    "scrolled": true
   },
   "outputs": [
    {
     "data": {
      "application/vnd.jupyter.widget-view+json": {
       "model_id": "9efcc10614e74141b774b826df0db594",
       "version_major": 2,
       "version_minor": 0
      },
      "text/plain": [
       "Map(center=[46.459222, 6.922641], controls=(ZoomControl(options=['position', 'zoom_in_text', 'zoom_in_title', …"
      ]
     },
     "metadata": {},
     "output_type": "display_data"
    }
   ],
   "source": [
    "m = ipyleaflet.Map(center=(46.459222, 6.922641), zoom=15)\n",
    "dc = ipyleaflet.DrawControl()\n",
    "m.add_control(dc)\n",
    "m"
   ]
  },
  {
   "cell_type": "code",
   "execution_count": 3,
   "id": "ec44a769",
   "metadata": {},
   "outputs": [
    {
     "name": "stdout",
     "output_type": "stream",
     "text": [
      "POLYGON ((2560632.6993575804 1145560.2259080147, 2560541.755142928 1145515.6880666723, 2560639.843470595 1145395.8733716435, 2560726.8553181915 1145473.344002537, 2560632.6993575804 1145560.2259080147))\n"
     ]
    },
    {
     "data": {
      "image/svg+xml": [
       "<svg xmlns=\"http://www.w3.org/2000/svg\" xmlns:xlink=\"http://www.w3.org/1999/xlink\" width=\"199.90818928461522\" height=\"179.16055039246567\" viewBox=\"2560534.3511359175 1145388.4693646329 199.90818928461522 179.16055039246567\" preserveAspectRatio=\"xMinYMin meet\"><g transform=\"matrix(1,0,0,-1,0,2290956.099279658)\"><path fill-rule=\"evenodd\" fill=\"#66cc99\" stroke=\"#555555\" stroke-width=\"2.0\" opacity=\"0.6\" d=\"M 2560632.6993575804,1145560.2259080147 L 2560541.755142928,1145515.6880666723 L 2560639.843470595,1145395.8733716435 L 2560726.8553181915,1145473.344002537 L 2560632.6993575804,1145560.2259080147 z\" /></g></svg>"
      ],
      "text/plain": [
       "<shapely.geometry.polygon.Polygon at 0x18c29f136a0>"
      ]
     },
     "metadata": {},
     "output_type": "display_data"
    }
   ],
   "source": [
    "wsg84 = 'epsg:4326'\n",
    "ch1903plus= 'epsg:2056'\n",
    "from pyproj import Transformer\n",
    "transformer = Transformer.from_crs(wsg84, ch1903plus)\n",
    "coords = [transformer.transform(y,x) for (x,y) in dc.last_draw['geometry']['coordinates'][0]]\n",
    "polygon = shapely.geometry.Polygon(coords)\n",
    "print(polygon.wkt)\n",
    "IPython.display.display(polygon)\n"
   ]
  },
  {
   "cell_type": "code",
   "execution_count": 4,
   "id": "820eac0b",
   "metadata": {},
   "outputs": [],
   "source": [
    "lidar_filename = \"2560_1145.las\""
   ]
  },
  {
   "cell_type": "code",
   "execution_count": 5,
   "id": "a24ce071",
   "metadata": {},
   "outputs": [
    {
     "name": "stdout",
     "output_type": "stream",
     "text": [
      "CPU times: total: 12.9 s\n",
      "Wall time: 13 s\n"
     ]
    }
   ],
   "source": [
    "import pdal\n",
    "b = polygon.bounds\n",
    "cropper = {\n",
    "    \"pipeline\": [lidar_filename,\n",
    "        {   \"type\":\"filters.crop\",\n",
    "            'bounds':str(([b[0], b[2]],[b[1], b[3]]))},\n",
    "        {   \"type\":\"filters.crop\",\n",
    "            'polygon':polygon.wkt},\n",
    "        #{   \"type\":\"filters.hag\"},\n",
    "        {   \"type\":\"filters.eigenvalues\",\n",
    "            \"knn\":16},\n",
    "        {   \"type\":\"filters.normal\",\n",
    "            \"knn\":16}\n",
    "    ]}\n",
    "pipeline = pdal.Pipeline(json.dumps(cropper))\n",
    "#pipeline.validate()\n",
    "%time n_points = pipeline.execute()\n",
    "\n",
    "#print('Pipeline selected {} points ({:.1f} pts/m2)'.format(n_points, n_points/polygon.area))"
   ]
  },
  {
   "cell_type": "code",
   "execution_count": 6,
   "id": "0d8af634",
   "metadata": {},
   "outputs": [
    {
     "name": "stdout",
     "output_type": "stream",
     "text": [
      "Pipeline selected 254022 points (16.9 pts/m2)\n"
     ]
    }
   ],
   "source": [
    "print('Pipeline selected {} points ({:.1f} pts/m2)'.format(n_points, n_points/polygon.area))"
   ]
  },
  {
   "cell_type": "code",
   "execution_count": 7,
   "id": "0522be74",
   "metadata": {},
   "outputs": [],
   "source": [
    "# Load Pipeline output in python objects\n",
    "arr = pipeline.arrays[0]\n",
    "description = arr.dtype.descr\n",
    "cols = [col for col, __ in description]\n",
    "df = pd.DataFrame({col: arr[col] for col in cols})\n",
    "df['X_0'] = df['X']\n",
    "df['Y_0'] = df['Y']\n",
    "df['Z_0'] = df['Z']\n",
    "df['X'] = df['X'] - df['X_0'].min()\n",
    "df['Y'] = df['Y'] - df['Y_0'].min()\n",
    "df['Z'] = df['Z'] - df['Z_0'].min()"
   ]
  },
  {
   "cell_type": "code",
   "execution_count": 19,
   "id": "efcc1eb8",
   "metadata": {},
   "outputs": [
    {
     "data": {
      "application/vnd.jupyter.widget-view+json": {
       "model_id": "5dab65179ba24aef8947be469adbbae3",
       "version_major": 2,
       "version_minor": 0
      },
      "text/plain": [
       "VBox(children=(Figure(camera=PerspectiveCamera(fov=46.0, position=(0.0, 0.0, 2.0), projectionMatrix=(1.0, 0.0,…"
      ]
     },
     "metadata": {},
     "output_type": "display_data"
    }
   ],
   "source": [
    "fig = p3.figure(width=600)\n",
    "fig.xlabel='Y'\n",
    "fig.ylabel='Z'\n",
    "fig.zlabel='X'\n",
    "all_points = p3.scatter(df['Y'], df['Z'], df['X'], color='red', size=.2)\n",
    "p3.squarelim()\n",
    "p3.show()"
   ]
  },
  {
   "cell_type": "code",
   "execution_count": 16,
   "id": "74007709",
   "metadata": {},
   "outputs": [
    {
     "data": {
      "application/javascript": [
       "// prevent click on the widget to jump throughout the notebook\n",
       "$(\".jupyter-widgets-view\").click(function(e){e.stopPropagation();})\n"
      ],
      "text/plain": [
       "<IPython.core.display.Javascript object>"
      ]
     },
     "metadata": {},
     "output_type": "display_data"
    }
   ],
   "source": [
    "%%javascript\n",
    "// prevent click on the widget to jump throughout the notebook\n",
    "$(\".jupyter-widgets-view\").click(function(e){e.stopPropagation();})"
   ]
  },
  {
   "cell_type": "code",
   "execution_count": 20,
   "id": "644815f8",
   "metadata": {},
   "outputs": [],
   "source": [
    "# Color ground in grey\n",
    "df['ground'] = df['Classification']==2\n",
    "ground = p3.scatter(df.loc[df['ground'],'Y'].values, df.loc[df['ground'],'Z'].values, df.loc[df['ground'],'X'].values, color='red', size=.2)\n",
    "non_ground = p3.scatter(df.loc[~df['ground'],'Y'].values, df.loc[~df['ground'],'Z'].values, df.loc[~df['ground'],'X'].values, color='red', size=.2)\n",
    "fig.scatters.append(ground)\n",
    "#fig.scatters.append(non_ground)\n",
    "all_points.visible = False\n",
    "ground.color='lightgrey'"
   ]
  },
  {
   "cell_type": "code",
   "execution_count": 21,
   "id": "c426aafd",
   "metadata": {},
   "outputs": [],
   "source": [
    "# Show ground as surface\n",
    "ground_delaunay = scipy.spatial.Delaunay(df.loc[df['ground'],['X','Y']])\n",
    "ground_surf = p3.plot_trisurf(df.loc[df['ground'],'Y'], df.loc[df['ground'],'Z'], df.loc[df['ground'],'X'], ground_delaunay.simplices, color='lightgrey')\n",
    "fig.meshes.append(ground_surf)\n",
    "ground.visible=False"
   ]
  },
  {
   "cell_type": "code",
   "execution_count": 22,
   "id": "f1fa1601",
   "metadata": {},
   "outputs": [],
   "source": [
    "# Show ground as surface\n",
    "ground_delaunay = scipy.spatial.Delaunay(df.loc[df['ground'],['X','Y']])\n",
    "ground_surf = p3.plot_trisurf(df.loc[df['ground'],'Y'], df.loc[df['ground'],'Z'], df.loc[df['ground'],'X'], ground_delaunay.simplices, color='lightgrey')\n",
    "fig.meshes.append(ground_surf)\n",
    "ground.visible=False"
   ]
  },
  {
   "cell_type": "code",
   "execution_count": 23,
   "id": "c5455e82",
   "metadata": {},
   "outputs": [],
   "source": [
    "# Color points according to flatness\n",
    "df['flatness'] = df['Eigenvalue0'] \n",
    "non_ground.color=matplotlib.cm.viridis(df.loc[~df['ground'],'flatness']*4)[:,0:3]"
   ]
  },
  {
   "cell_type": "code",
   "execution_count": 26,
   "id": "c7675646",
   "metadata": {},
   "outputs": [],
   "source": [
    "# Separate between trees and the rest\n",
    "df['tree_potential'] = df['Classification']==3 \n",
    "df['other'] = ~df['ground'] & ~df['tree_potential']\n",
    "tree_potential = p3.scatter(df.loc[df['tree_potential'],'Y'].values, df.loc[df['tree_potential'],'Z'].values, df.loc[df['tree_potential'],'X'].values, color=matplotlib.cm.viridis(df.loc[df['tree_potential'],'flatness']*4)[:,0:3], size=.2)\n",
    "other = p3.scatter(df.loc[df['other'],'Y'].values, df.loc[df['other'],'Z'].values, df.loc[df['other'],'X'].values, color=matplotlib.cm.viridis(df.loc[df['other'],'flatness']*4)[:,0:3], size=.2)\n",
    "non_ground.visible=False\n",
    "tree_potential.color='darkgreen'\n",
    "other.color='red'"
   ]
  },
  {
   "cell_type": "code",
   "execution_count": 27,
   "id": "540c7435",
   "metadata": {},
   "outputs": [],
   "source": [
    "#Hide non-tree\n",
    "other.visible=False"
   ]
  },
  {
   "cell_type": "code",
   "execution_count": 28,
   "id": "9e88e925",
   "metadata": {},
   "outputs": [
    {
     "ename": "NameError",
     "evalue": "name 'local_max' is not defined",
     "output_type": "error",
     "traceback": [
      "\u001b[1;31m---------------------------------------------------------------------------\u001b[0m",
      "\u001b[1;31mNameError\u001b[0m                                 Traceback (most recent call last)",
      "Input \u001b[1;32mIn [28]\u001b[0m, in \u001b[0;36m<cell line: 1>\u001b[1;34m()\u001b[0m\n\u001b[1;32m----> 1\u001b[0m lep \u001b[38;5;241m=\u001b[39m \u001b[43mlocal_max\u001b[49m(df\u001b[38;5;241m.\u001b[39mloc[df[\u001b[38;5;124m'\u001b[39m\u001b[38;5;124mtree_potential\u001b[39m\u001b[38;5;124m'\u001b[39m],[\u001b[38;5;124m'\u001b[39m\u001b[38;5;124mX\u001b[39m\u001b[38;5;124m'\u001b[39m,\u001b[38;5;124m'\u001b[39m\u001b[38;5;124mY\u001b[39m\u001b[38;5;124m'\u001b[39m,\u001b[38;5;124m'\u001b[39m\u001b[38;5;124mZ\u001b[39m\u001b[38;5;124m'\u001b[39m,\u001b[38;5;124m'\u001b[39m\u001b[38;5;124mHeightAboveGround\u001b[39m\u001b[38;5;124m'\u001b[39m]], radius\u001b[38;5;241m=\u001b[39m\u001b[38;5;241m3\u001b[39m, density_threshold\u001b[38;5;241m=\u001b[39m\u001b[38;5;241m15\u001b[39m)\n",
      "\u001b[1;31mNameError\u001b[0m: name 'local_max' is not defined"
     ]
    }
   ],
   "source": [
    "lep = local_max(df.loc[df['tree_potential'],['X','Y','Z','HeightAboveGround']], radius=3, density_threshold=15)"
   ]
  },
  {
   "cell_type": "code",
   "execution_count": null,
   "id": "aea77e3b",
   "metadata": {},
   "outputs": [],
   "source": []
  }
 ],
 "metadata": {
  "kernelspec": {
   "display_name": "Python 3 (ipykernel)",
   "language": "python",
   "name": "python3"
  },
  "language_info": {
   "codemirror_mode": {
    "name": "ipython",
    "version": 3
   },
   "file_extension": ".py",
   "mimetype": "text/x-python",
   "name": "python",
   "nbconvert_exporter": "python",
   "pygments_lexer": "ipython3",
   "version": "3.9.12"
  }
 },
 "nbformat": 4,
 "nbformat_minor": 5
}
