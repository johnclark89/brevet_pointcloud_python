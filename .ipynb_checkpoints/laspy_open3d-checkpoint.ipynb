{
 "cells": [
  {
   "cell_type": "code",
   "execution_count": 1,
   "id": "1fa7d98d",
   "metadata": {
    "scrolled": true
   },
   "outputs": [
    {
     "name": "stdout",
     "output_type": "stream",
     "text": [
      "Jupyter environment detected. Enabling Open3D WebVisualizer.\n",
      "[Open3D INFO] WebRTC GUI backend enabled.\n",
      "[Open3D INFO] WebRTCWindowSystem: HTTP handshake server disabled.\n"
     ]
    }
   ],
   "source": [
    "import laspy\n",
    "import open3d as o3d\n",
    "import numpy as np"
   ]
  },
  {
   "cell_type": "code",
   "execution_count": 2,
   "id": "efeb7d07",
   "metadata": {},
   "outputs": [],
   "source": [
    "input_path=r\"C:\\Users\\prazm\\Desktop\\swisssurface3d_2018_2560-1145_2056_5728\""
   ]
  },
  {
   "cell_type": "code",
   "execution_count": 3,
   "id": "a5267bed",
   "metadata": {},
   "outputs": [],
   "source": [
    "las = laspy.read(\"2560_1145.las\")"
   ]
  },
  {
   "cell_type": "code",
   "execution_count": 4,
   "id": "38fde654",
   "metadata": {},
   "outputs": [
    {
     "data": {
      "text/plain": [
       "<LasData(1.2, point fmt: <PointFormat(1, 0 bytes of extra dims)>, 29525816 points, 0 vlrs)>"
      ]
     },
     "execution_count": 4,
     "metadata": {},
     "output_type": "execute_result"
    }
   ],
   "source": [
    "las"
   ]
  },
  {
   "cell_type": "code",
   "execution_count": null,
   "id": "084f5637",
   "metadata": {},
   "outputs": [],
   "source": []
  },
  {
   "cell_type": "code",
   "execution_count": null,
   "id": "29b1c223",
   "metadata": {},
   "outputs": [],
   "source": []
  },
  {
   "cell_type": "code",
   "execution_count": 23,
   "id": "18426015",
   "metadata": {},
   "outputs": [
    {
     "data": {
      "text/plain": [
       "['X',\n",
       " 'Y',\n",
       " 'Z',\n",
       " 'intensity',\n",
       " 'return_number',\n",
       " 'number_of_returns',\n",
       " 'scan_direction_flag',\n",
       " 'edge_of_flight_line',\n",
       " 'classification',\n",
       " 'synthetic',\n",
       " 'key_point',\n",
       " 'withheld',\n",
       " 'scan_angle_rank',\n",
       " 'user_data',\n",
       " 'point_source_id',\n",
       " 'gps_time']"
      ]
     },
     "execution_count": 23,
     "metadata": {},
     "output_type": "execute_result"
    }
   ],
   "source": [
    "list(las.point_format.dimension_names)"
   ]
  },
  {
   "cell_type": "code",
   "execution_count": 24,
   "id": "d50b3946",
   "metadata": {},
   "outputs": [
    {
     "data": {
      "text/plain": [
       "array([    0,     0,     0, ..., 19208, 19236, 34290])"
      ]
     },
     "execution_count": 24,
     "metadata": {},
     "output_type": "execute_result"
    }
   ],
   "source": [
    "las.X"
   ]
  },
  {
   "cell_type": "code",
   "execution_count": 25,
   "id": "405f54d7",
   "metadata": {},
   "outputs": [
    {
     "data": {
      "text/plain": [
       "array([371, 122, 321, ..., 146,  58,  61], dtype=uint16)"
      ]
     },
     "execution_count": 25,
     "metadata": {},
     "output_type": "execute_result"
    }
   ],
   "source": [
    "las.intensity"
   ]
  },
  {
   "cell_type": "code",
   "execution_count": 26,
   "id": "039e575f",
   "metadata": {},
   "outputs": [
    {
     "data": {
      "text/plain": [
       "array([2.23558158e+08, 2.23558158e+08, 2.23558158e+08, ...,\n",
       "       2.23621618e+08, 2.23621618e+08, 2.23621622e+08])"
      ]
     },
     "execution_count": 26,
     "metadata": {},
     "output_type": "execute_result"
    }
   ],
   "source": [
    "las.gps_time"
   ]
  },
  {
   "cell_type": "code",
   "execution_count": 27,
   "id": "1267b253",
   "metadata": {},
   "outputs": [
    {
     "data": {
      "text/plain": [
       "{1, 2, 3, 6, 17}"
      ]
     },
     "execution_count": 27,
     "metadata": {},
     "output_type": "execute_result"
    }
   ],
   "source": [
    "set(list(las.classification))"
   ]
  },
  {
   "cell_type": "code",
   "execution_count": 28,
   "id": "ae9fca60",
   "metadata": {},
   "outputs": [],
   "source": [
    "point_data = np.stack([las.X, las.Y, las.Z], axis=0).transpose((1, 0))"
   ]
  },
  {
   "cell_type": "code",
   "execution_count": 29,
   "id": "57696702",
   "metadata": {},
   "outputs": [
    {
     "data": {
      "text/plain": [
       "array([[    0, 25638, 85398],\n",
       "       [    0, 24538, 85490],\n",
       "       [    0, 20360, 87737],\n",
       "       ...,\n",
       "       [19208, 90613, 82746],\n",
       "       [19236, 90573, 82756],\n",
       "       [34290, 90896, 83089]])"
      ]
     },
     "execution_count": 29,
     "metadata": {},
     "output_type": "execute_result"
    }
   ],
   "source": [
    "point_data"
   ]
  },
  {
   "cell_type": "code",
   "execution_count": 30,
   "id": "23ed6eca",
   "metadata": {},
   "outputs": [],
   "source": [
    "buildings = laspy.create(point_format=las.header.point_format, file_version=las.header.version)\n",
    "buildings.points = las.points[las.classification == 6]"
   ]
  },
  {
   "cell_type": "code",
   "execution_count": 32,
   "id": "4f58e850",
   "metadata": {},
   "outputs": [],
   "source": [
    "buildings.write(\"buildings.las\")"
   ]
  },
  {
   "cell_type": "code",
   "execution_count": 33,
   "id": "8c968a66",
   "metadata": {},
   "outputs": [],
   "source": [
    "geom = o3d.geometry.PointCloud()\n",
    "geom.points = o3d.utility.Vector3dVector(point_data)\n",
    "o3d.visualization.draw_geometries([geom])"
   ]
  },
  {
   "cell_type": "code",
   "execution_count": null,
   "id": "1e89dce2",
   "metadata": {},
   "outputs": [],
   "source": []
  }
 ],
 "metadata": {
  "kernelspec": {
   "display_name": "Python 3 (ipykernel)",
   "language": "python",
   "name": "python3"
  },
  "language_info": {
   "codemirror_mode": {
    "name": "ipython",
    "version": 3
   },
   "file_extension": ".py",
   "mimetype": "text/x-python",
   "name": "python",
   "nbconvert_exporter": "python",
   "pygments_lexer": "ipython3",
   "version": "3.9.12"
  }
 },
 "nbformat": 4,
 "nbformat_minor": 5
}
