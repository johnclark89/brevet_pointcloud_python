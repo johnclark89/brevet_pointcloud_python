{
 "cells": [
  {
   "cell_type": "markdown",
   "id": "6e6f0e56",
   "metadata": {},
   "source": [
    "# Indexation de nuages de points (Entwine)\n",
    "\n",
    "**Entwine** est une librairie open source (licence LGPLv2) en C/C++ qui permet l'indexation des nuages de points.\n",
    "\n",
    "Elle peut indexer plusieurs milliards de points sans aucune perte.\n",
    "\n",
    "Ce n'est pas une librairie python mais elle accepte en entrée les mêmes formats que PDAL.\n",
    "\n",
    "https://github.com/connormanning/entwine#readme\n",
    "https://entwine.io/\n",
    "\n",
    "## Indexation\n",
    "\n",
    "Nous allons indexer tous les fichiers se trouvant dans le répertoire input."
   ]
  },
  {
   "cell_type": "code",
   "execution_count": null,
   "id": "e980df83",
   "metadata": {},
   "outputs": [],
   "source": [
    "%%time\n",
    "import subprocess\n",
    "import pathlib\n",
    "from pathlib import Path\n",
    "datasource = pathlib.Path.cwd() /'data'/'input'\n",
    "output = pathlib.Path.cwd() /'entwine'\n",
    "\n",
    "cmd = \"entwine build -i \"+str(datasource)+\" -o \"+str(output)+\" -r EPSG:2056 EPSG:2056\"\n",
    "#print(cmd)\n",
    "p = subprocess.call(cmd,shell=True)  "
   ]
  },
  {
   "cell_type": "markdown",
   "id": "0497016a",
   "metadata": {},
   "source": [
    "Nous avons à présent indexé en quelques minutes plus de **111 millions de points**.\n",
    "\n",
    "Nous allons pouvoir visualiser ce nuage avec **Potree**. Commençons par démarrer un server http."
   ]
  },
  {
   "cell_type": "code",
   "execution_count": 1,
   "id": "46449f04",
   "metadata": {},
   "outputs": [
    {
     "name": "stdout",
     "output_type": "stream",
     "text": [
      "http-server entwine -p 8080 --cors\n"
     ]
    }
   ],
   "source": [
    "import subprocess\n",
    "cmd = \"http-server entwine -p 8080 --cors\"\n",
    "print(cmd)\n",
    "p = subprocess.Popen(cmd,shell=True) "
   ]
  },
  {
   "cell_type": "markdown",
   "id": "32f300cb",
   "metadata": {},
   "source": [
    "Une fois le serveur lancé, nous pouvons afficher le nuage via le visualisateur en ligne."
   ]
  },
  {
   "cell_type": "code",
   "execution_count": null,
   "id": "5bded88a",
   "metadata": {
    "scrolled": false
   },
   "outputs": [],
   "source": [
    "from IPython.display import IFrame\n",
    "\n",
    "url = r'https://potree.entwine.io/data/view.html?r=%22http://localhost:8080%22'\n",
    "IFrame(url, width=900, height=800)"
   ]
  }
 ],
 "metadata": {
  "kernelspec": {
   "display_name": "Python 3 (ipykernel)",
   "language": "python",
   "name": "python3"
  },
  "language_info": {
   "codemirror_mode": {
    "name": "ipython",
    "version": 3
   },
   "file_extension": ".py",
   "mimetype": "text/x-python",
   "name": "python",
   "nbconvert_exporter": "python",
   "pygments_lexer": "ipython3",
   "version": "3.9.12"
  }
 },
 "nbformat": 4,
 "nbformat_minor": 5
}
